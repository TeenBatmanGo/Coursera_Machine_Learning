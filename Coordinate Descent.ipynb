{
 "cells": [
  {
   "cell_type": "code",
   "execution_count": 1,
   "metadata": {
    "collapsed": true
   },
   "outputs": [],
   "source": [
    "import numpy as np\n",
    "import matplotlib.pyplot as plt\n",
    "%matplotlib inline"
   ]
  },
  {
   "cell_type": "code",
   "execution_count": 2,
   "metadata": {
    "collapsed": false
   },
   "outputs": [
    {
     "name": "stdout",
     "output_type": "stream",
     "text": [
      "C:\\Users\\诚明\\Downloads\\PS3-data\\q3\n"
     ]
    }
   ],
   "source": [
    "cd C:\\Users\\诚明\\Downloads\\PS3-data\\q3"
   ]
  },
  {
   "cell_type": "code",
   "execution_count": 20,
   "metadata": {
    "collapsed": false
   },
   "outputs": [],
   "source": [
    "X = np.loadtxt('x.dat')\n",
    "y = np.loadtxt('y.dat')\n",
    "y = y.reshape((20,1))\n",
    "n = X.shape[1]\n",
    "theta_true = np.loadtxt('theta.dat')"
   ]
  },
  {
   "cell_type": "code",
   "execution_count": 21,
   "metadata": {
    "collapsed": false
   },
   "outputs": [
    {
     "name": "stdout",
     "output_type": "stream",
     "text": [
      "Shape of X: (20, 100) \n",
      "Shape of y: (20, 1)\n"
     ]
    }
   ],
   "source": [
    "print('Shape of X: %s \\nShape of y: %s' % (X.shape, y.shape))"
   ]
  },
  {
   "cell_type": "code",
   "execution_count": 110,
   "metadata": {
    "collapsed": true
   },
   "outputs": [],
   "source": [
    "def coordinateDescent(x, y, lam = 0):\n",
    "    theta = np.zeros((n, 1))\n",
    "    old_theta = np.ones((n, 1))\n",
    "    while np.linalg.norm(theta - old_theta) > 1e-5:\n",
    "        old_theta = theta\n",
    "        for i in range(n):\n",
    "            X_i = x[:,i].reshape((20,1))\n",
    "            theta[i] = 0\n",
    "            theta_1 = [0, 0]\n",
    "            theta_1[0] = max((-X_i.T.dot(x.dot(theta)-y) - lam)/(X_i.T.dot(X_i)), 0)\n",
    "            theta_1[1] = min((-X_i.T.dot(x.dot(theta)-y) + lam)/(X_i.T.dot(X_i)), 0)\n",
    "            \n",
    "            theta[i] = theta_1[0]\n",
    "            obj_1 = 1/2*(x.dot(theta)-y).T.dot(x.dot(theta)-y) + lam*np.linalg.norm(theta,1)\n",
    "            theta[i] = theta_1[1]\n",
    "            obj_2 = 1/2*(x.dot(theta)-y).T.dot(x.dot(theta)-y) + lam*np.linalg.norm(theta,1)\n",
    "            \n",
    "            theta[i] = theta_1[0] if obj_1 == min(obj_1, obj_2) else theta_1[1]\n",
    "    return [round(float(x),2) for x in theta]"
   ]
  },
  {
   "cell_type": "code",
   "execution_count": 115,
   "metadata": {
    "collapsed": false
   },
   "outputs": [
    {
     "data": {
      "text/plain": [
       "array([[ 0.26      ,  0.68372018],\n",
       "       [ 0.92      ,  0.84110202],\n",
       "       [-1.35      , -0.83028605],\n",
       "       [-0.62      , -0.85031124],\n",
       "       [-0.5       , -0.93904984],\n",
       "       [ 0.        ,  0.        ],\n",
       "       [ 0.        ,  0.        ],\n",
       "       [ 0.01      ,  0.        ],\n",
       "       [ 0.        ,  0.        ],\n",
       "       [ 0.08      ,  0.        ],\n",
       "       [ 0.        ,  0.        ],\n",
       "       [-0.02      ,  0.        ],\n",
       "       [-0.01      ,  0.        ],\n",
       "       [ 0.        ,  0.        ],\n",
       "       [ 0.        ,  0.        ],\n",
       "       [ 0.        ,  0.        ],\n",
       "       [ 0.02      ,  0.        ],\n",
       "       [ 0.05      ,  0.        ],\n",
       "       [ 0.08      ,  0.        ],\n",
       "       [ 0.04      ,  0.        ],\n",
       "       [ 0.        ,  0.        ],\n",
       "       [ 0.08      ,  0.        ],\n",
       "       [ 0.09      ,  0.        ],\n",
       "       [ 0.        ,  0.        ],\n",
       "       [ 0.        ,  0.        ],\n",
       "       [ 0.08      ,  0.        ],\n",
       "       [ 0.        ,  0.        ],\n",
       "       [ 0.        ,  0.        ],\n",
       "       [ 0.        ,  0.        ],\n",
       "       [ 0.        ,  0.        ],\n",
       "       [-0.01      ,  0.        ],\n",
       "       [-0.01      ,  0.        ],\n",
       "       [ 0.09      ,  0.        ],\n",
       "       [ 0.        ,  0.        ],\n",
       "       [ 0.        ,  0.        ],\n",
       "       [ 0.        ,  0.        ],\n",
       "       [-0.04      ,  0.        ],\n",
       "       [ 0.        ,  0.        ],\n",
       "       [ 0.11      ,  0.        ],\n",
       "       [ 0.        ,  0.        ],\n",
       "       [ 0.        ,  0.        ],\n",
       "       [ 0.08      ,  0.        ],\n",
       "       [ 0.        ,  0.        ],\n",
       "       [ 0.04      ,  0.        ],\n",
       "       [ 0.        ,  0.        ],\n",
       "       [ 0.        ,  0.        ],\n",
       "       [ 0.        ,  0.        ],\n",
       "       [ 0.        ,  0.        ],\n",
       "       [ 0.        ,  0.        ],\n",
       "       [ 0.        ,  0.        ],\n",
       "       [ 0.        ,  0.        ],\n",
       "       [ 0.        ,  0.        ],\n",
       "       [ 0.        ,  0.        ],\n",
       "       [ 0.        ,  0.        ],\n",
       "       [ 0.        ,  0.        ],\n",
       "       [ 0.        ,  0.        ],\n",
       "       [ 0.01      ,  0.        ],\n",
       "       [ 0.        ,  0.        ],\n",
       "       [ 0.03      ,  0.        ],\n",
       "       [ 0.        ,  0.        ],\n",
       "       [ 0.        ,  0.        ],\n",
       "       [-0.01      ,  0.        ],\n",
       "       [ 0.        ,  0.        ],\n",
       "       [ 0.        ,  0.        ],\n",
       "       [ 0.        ,  0.        ],\n",
       "       [-0.11      ,  0.        ],\n",
       "       [ 0.        ,  0.        ],\n",
       "       [ 0.        ,  0.        ],\n",
       "       [ 0.        ,  0.        ],\n",
       "       [ 0.        ,  0.        ],\n",
       "       [ 0.        ,  0.        ],\n",
       "       [ 0.        ,  0.        ],\n",
       "       [ 0.        ,  0.        ],\n",
       "       [ 0.        ,  0.        ],\n",
       "       [ 0.        ,  0.        ],\n",
       "       [ 0.        ,  0.        ],\n",
       "       [ 0.        ,  0.        ],\n",
       "       [-0.        ,  0.        ],\n",
       "       [ 0.        ,  0.        ],\n",
       "       [ 0.        ,  0.        ],\n",
       "       [ 0.        ,  0.        ],\n",
       "       [ 0.        ,  0.        ],\n",
       "       [ 0.        ,  0.        ],\n",
       "       [ 0.        ,  0.        ],\n",
       "       [ 0.        ,  0.        ],\n",
       "       [ 0.        ,  0.        ],\n",
       "       [ 0.        ,  0.        ],\n",
       "       [ 0.        ,  0.        ],\n",
       "       [ 0.        ,  0.        ],\n",
       "       [ 0.        ,  0.        ],\n",
       "       [ 0.        ,  0.        ],\n",
       "       [ 0.        ,  0.        ],\n",
       "       [ 0.        ,  0.        ],\n",
       "       [ 0.        ,  0.        ],\n",
       "       [ 0.        ,  0.        ],\n",
       "       [ 0.        ,  0.        ],\n",
       "       [ 0.        ,  0.        ],\n",
       "       [ 0.        ,  0.        ],\n",
       "       [ 0.        ,  0.        ],\n",
       "       [ 0.        ,  0.        ]])"
      ]
     },
     "execution_count": 115,
     "metadata": {},
     "output_type": "execute_result"
    }
   ],
   "source": [
    "np.concatenate((np.array(coordinateDescent(X,y,1)).reshape((100,1)), theta_true.reshape((100,1))),axis=1)"
   ]
  },
  {
   "cell_type": "code",
   "execution_count": null,
   "metadata": {
    "collapsed": true
   },
   "outputs": [],
   "source": []
  }
 ],
 "metadata": {
  "kernelspec": {
   "display_name": "Python 3",
   "language": "python",
   "name": "python3"
  },
  "language_info": {
   "codemirror_mode": {
    "name": "ipython",
    "version": 3
   },
   "file_extension": ".py",
   "mimetype": "text/x-python",
   "name": "python",
   "nbconvert_exporter": "python",
   "pygments_lexer": "ipython3",
   "version": "3.6.0"
  }
 },
 "nbformat": 4,
 "nbformat_minor": 2
}
