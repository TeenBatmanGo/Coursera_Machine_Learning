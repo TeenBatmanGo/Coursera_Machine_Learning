{
 "cells": [
  {
   "cell_type": "code",
   "execution_count": 1,
   "metadata": {
    "collapsed": false
   },
   "outputs": [],
   "source": [
    "%matplotlib inline\n",
    "import numpy as np\n",
    "import pandas as pd\n",
    "import matplotlib.pyplot as plt\n",
    "import scipy.io \n",
    "from sklearn import svm \n",
    "import re \n",
    "from stemming.porter2 import stem\n",
    "import nltk, nltk.stem.porter"
   ]
  },
  {
   "cell_type": "code",
   "execution_count": 5,
   "metadata": {
    "collapsed": false
   },
   "outputs": [
    {
     "name": "stdout",
     "output_type": "stream",
     "text": [
      "C:\\Users\\诚明\\Desktop\\MachineLearning\\machine-learning-ex6\\ex6\n"
     ]
    }
   ],
   "source": [
    "cd C:\\Users\\诚明\\Desktop\\MachineLearning\\machine-learning-ex6\\ex6"
   ]
  },
  {
   "cell_type": "code",
   "execution_count": 6,
   "metadata": {
    "collapsed": false
   },
   "outputs": [
    {
     "data": {
      "text/plain": [
       "\"> Anyone knows how much it costs to host a web portal ?\\n>\\nWell, it depends on how many visitors you're expecting.\\nThis can be anywhere from less than 10 bucks a month to a couple of $100. \\nYou should checkout http://www.rackspace.com/ or perhaps Amazon EC2 \\nif youre running something big..\\n\\nTo unsubscribe yourself from this mailing list, send an email to:\\ngroupname-unsubscribe@egroups.com\\n\\n\""
      ]
     },
     "execution_count": 6,
     "metadata": {},
     "output_type": "execute_result"
    }
   ],
   "source": [
    "emailcontent=open('emailSample1.txt','r').read()\n",
    "emailcontent"
   ]
  },
  {
   "cell_type": "code",
   "execution_count": 7,
   "metadata": {
    "collapsed": true
   },
   "outputs": [],
   "source": [
    "def preProcess(email):\n",
    "    email=email.lower()\n",
    "    email=re.sub('<[^<>]+>', ' ', email)\n",
    "    email=re.sub('[0-9]+','number',email)\n",
    "    email=re.sub('(http|https)://[^\\s]*','httpaddr',email)          \n",
    "    email=re.sub('[^\\s]+@[^\\s]+','emailaddr',email)\n",
    "    email=re.sub('[$]+','dollar',email)\n",
    "    return email"
   ]
  },
  {
   "cell_type": "code",
   "execution_count": 39,
   "metadata": {
    "collapsed": false
   },
   "outputs": [],
   "source": [
    "def email2TokenList(raw_email):\n",
    "    stemmer=nltk.stem.porter.PorterStemmer()\n",
    "    email=preProcess( raw_email )\n",
    "    tokens=re.split(r'[@=)%(.\",_%-:;$*!?#\\'<> ]',email)      # Notice that we need to split \" \" too.\n",
    "    tokenlist=[]\n",
    "    for token in tokens:\n",
    "        token=re.sub('[\\W]','',token)\n",
    "        stemmed=stemmer.stem(token)\n",
    "        if not len(token): \n",
    "            continue\n",
    "        tokenlist.append(stemmed)\n",
    "    return tokenlist"
   ]
  },
  {
   "cell_type": "code",
   "execution_count": 9,
   "metadata": {
    "collapsed": false
   },
   "outputs": [
    {
     "data": {
      "text/plain": [
       "'anyon know how much it cost to host a web portal well it depend on how mani visitor you re expect thi can be anywher from less than number buck a month to a coupl of dollarnumb you should checkout httpaddr or perhap amazon ecnumb if your run someth big to unsubscrib yourself from thi mail list send an email to emailaddr'"
      ]
     },
     "execution_count": 9,
     "metadata": {},
     "output_type": "execute_result"
    }
   ],
   "source": [
    "\" \".join(pd.Series(email2TokenList(emailcontent)))"
   ]
  },
  {
   "cell_type": "code",
   "execution_count": 10,
   "metadata": {
    "collapsed": false
   },
   "outputs": [],
   "source": [
    "def getVocablist():\n",
    "    vocab_list={}\n",
    "    with open('vocab.txt') as f:\n",
    "        for line in f:\n",
    "            (val,key)=line.split()\n",
    "            vocab_list[key]=int(val)\n",
    "    return vocab_list"
   ]
  },
  {
   "cell_type": "code",
   "execution_count": 11,
   "metadata": {
    "collapsed": true
   },
   "outputs": [],
   "source": [
    "def email2VocabIndices(raw_email,vocab_dict):\n",
    "    tokenlist=email2TokenList(raw_email)\n",
    "    indlist=[vocab_dict[token] for token in tokenlist if token in vocab_dict]\n",
    "    return indlist"
   ]
  },
  {
   "cell_type": "code",
   "execution_count": 12,
   "metadata": {
    "collapsed": true
   },
   "outputs": [],
   "source": [
    "def email2featurevec(raw_email,vocab_dict):\n",
    "    indlist=email2VocabIndices(raw_email,vocab_dict)\n",
    "    result=np.zeros((len(vocab_dict),1))\n",
    "    result[indlist]=1\n",
    "    return result"
   ]
  },
  {
   "cell_type": "code",
   "execution_count": 13,
   "metadata": {
    "collapsed": false
   },
   "outputs": [
    {
     "data": {
      "text/plain": [
       "45"
      ]
     },
     "execution_count": 13,
     "metadata": {},
     "output_type": "execute_result"
    }
   ],
   "source": [
    "result=email2featurevec(emailcontent,getVocablist())\n",
    "np.count_nonzero(result)"
   ]
  },
  {
   "cell_type": "code",
   "execution_count": 14,
   "metadata": {
    "collapsed": true
   },
   "outputs": [],
   "source": [
    "data=scipy.io.loadmat('spamTrain.mat')\n",
    "X,y=data['X'],data['y']\n",
    "mat= scipy.io.loadmat('spamTest.mat')\n",
    "Xtest, ytest = mat['Xtest'], mat['ytest']"
   ]
  },
  {
   "cell_type": "code",
   "execution_count": 15,
   "metadata": {
    "collapsed": false
   },
   "outputs": [
    {
     "name": "stdout",
     "output_type": "stream",
     "text": [
      "Accuracy of train samples: 0.998 \n",
      "Accuracy of test samples: 0.989\n"
     ]
    }
   ],
   "source": [
    "fit=svm.SVC(C=0.1,kernel='linear').fit(X,y.flatten())\n",
    "predtrain=fit.predict(X)\n",
    "accuracy_train=float(sum(predtrain.reshape((y.size,1))==y)/y.size)\n",
    "predtest=svm.SVC(C=0.1,kernel='linear').fit(X,y.flatten()).predict(Xtest)\n",
    "accuracy_test=float(sum(predtest.reshape((ytest.size,1))==ytest)/ytest.size)\n",
    "print('Accuracy of train samples: %.3f \\nAccuracy of test samples: %.3f' % (accuracy_train,accuracy_test))"
   ]
  },
  {
   "cell_type": "code",
   "execution_count": 16,
   "metadata": {
    "collapsed": false
   },
   "outputs": [],
   "source": [
    "coef=pd.DataFrame(fit.coef_.T)\n",
    "vocab_dict=getVocablist()\n",
    "vocab_series=pd.Series(vocab_dict)\n",
    "most_common=vocab_series[coef.nlargest(15,0).index]\n",
    "least_common=vocab_series[coef.nsmallest(15,0).index]"
   ]
  },
  {
   "cell_type": "code",
   "execution_count": 17,
   "metadata": {
    "collapsed": false
   },
   "outputs": [
    {
     "data": {
      "text/html": [
       "<div>\n",
       "<table border=\"1\" class=\"dataframe\">\n",
       "  <thead>\n",
       "    <tr style=\"text-align: right;\">\n",
       "      <th></th>\n",
       "      <th>Most Common</th>\n",
       "      <th>Least Common</th>\n",
       "    </tr>\n",
       "  </thead>\n",
       "  <tbody>\n",
       "    <tr>\n",
       "      <th>0</th>\n",
       "      <td>our</td>\n",
       "      <td>spamassassin</td>\n",
       "    </tr>\n",
       "    <tr>\n",
       "      <th>1</th>\n",
       "      <td>click</td>\n",
       "      <td>the</td>\n",
       "    </tr>\n",
       "    <tr>\n",
       "      <th>2</th>\n",
       "      <td>remov</td>\n",
       "      <td>url</td>\n",
       "    </tr>\n",
       "    <tr>\n",
       "      <th>3</th>\n",
       "      <td>guarante</td>\n",
       "      <td>wrote</td>\n",
       "    </tr>\n",
       "    <tr>\n",
       "      <th>4</th>\n",
       "      <td>visit</td>\n",
       "      <td>date</td>\n",
       "    </tr>\n",
       "    <tr>\n",
       "      <th>5</th>\n",
       "      <td>basenumb</td>\n",
       "      <td>list</td>\n",
       "    </tr>\n",
       "    <tr>\n",
       "      <th>6</th>\n",
       "      <td>dollar</td>\n",
       "      <td>rpm</td>\n",
       "    </tr>\n",
       "    <tr>\n",
       "      <th>7</th>\n",
       "      <td>will</td>\n",
       "      <td>numbertnumb</td>\n",
       "    </tr>\n",
       "    <tr>\n",
       "      <th>8</th>\n",
       "      <td>price</td>\n",
       "      <td>user</td>\n",
       "    </tr>\n",
       "    <tr>\n",
       "      <th>9</th>\n",
       "      <td>pleas</td>\n",
       "      <td>until</td>\n",
       "    </tr>\n",
       "    <tr>\n",
       "      <th>10</th>\n",
       "      <td>most</td>\n",
       "      <td>author</td>\n",
       "    </tr>\n",
       "    <tr>\n",
       "      <th>11</th>\n",
       "      <td>nbsp</td>\n",
       "      <td>razor</td>\n",
       "    </tr>\n",
       "    <tr>\n",
       "      <th>12</th>\n",
       "      <td>lo</td>\n",
       "      <td>yahoo</td>\n",
       "    </tr>\n",
       "    <tr>\n",
       "      <th>13</th>\n",
       "      <td>ga</td>\n",
       "      <td>tom</td>\n",
       "    </tr>\n",
       "    <tr>\n",
       "      <th>14</th>\n",
       "      <td>hour</td>\n",
       "      <td>httpaddr</td>\n",
       "    </tr>\n",
       "  </tbody>\n",
       "</table>\n",
       "</div>"
      ],
      "text/plain": [
       "   Most Common  Least Common\n",
       "0          our  spamassassin\n",
       "1        click           the\n",
       "2        remov           url\n",
       "3     guarante         wrote\n",
       "4        visit          date\n",
       "5     basenumb          list\n",
       "6       dollar           rpm\n",
       "7         will   numbertnumb\n",
       "8        price          user\n",
       "9        pleas         until\n",
       "10        most        author\n",
       "11        nbsp         razor\n",
       "12          lo         yahoo\n",
       "13          ga           tom\n",
       "14        hour      httpaddr"
      ]
     },
     "execution_count": 17,
     "metadata": {},
     "output_type": "execute_result"
    }
   ],
   "source": [
    "spam_classifier=pd.DataFrame([most_common.index,least_common.index]).T\n",
    "spam_classifier.columns=['Most Common','Least Common']\n",
    "spam_classifier"
   ]
  },
  {
   "cell_type": "code",
   "execution_count": 43,
   "metadata": {
    "collapsed": true
   },
   "outputs": [],
   "source": [
    "def email2TokenList2(raw_email):\n",
    "    stemmer=nltk.stem.porter.PorterStemmer()\n",
    "    email=preProcess( raw_email )\n",
    "    tokens=re.split('\\W',email)      # Notice that we need to split \" \" too.\n",
    "    tokenlist=[]\n",
    "    for token in tokens:\n",
    "        stemmed=stemmer.stem(token)\n",
    "        if not len(token): \n",
    "            continue\n",
    "        tokenlist.append(stemmed)\n",
    "    return tokenlist"
   ]
  },
  {
   "cell_type": "code",
   "execution_count": null,
   "metadata": {
    "collapsed": true
   },
   "outputs": [],
   "source": []
  }
 ],
 "metadata": {
  "kernelspec": {
   "display_name": "Python 3",
   "language": "python",
   "name": "python3"
  },
  "language_info": {
   "codemirror_mode": {
    "name": "ipython",
    "version": 3
   },
   "file_extension": ".py",
   "mimetype": "text/x-python",
   "name": "python",
   "nbconvert_exporter": "python",
   "pygments_lexer": "ipython3",
   "version": "3.6.0"
  }
 },
 "nbformat": 4,
 "nbformat_minor": 2
}
