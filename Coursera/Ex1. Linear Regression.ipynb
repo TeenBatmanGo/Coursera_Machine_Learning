{
 "cells": [
  {
   "cell_type": "code",
   "execution_count": 1,
   "metadata": {
    "collapsed": true
   },
   "outputs": [],
   "source": [
    "import numpy as np\n",
    "import pandas as pd\n",
    "import matplotlib.pyplot as plt\n",
    "%matplotlib inline"
   ]
  },
  {
   "cell_type": "code",
   "execution_count": 4,
   "metadata": {
    "collapsed": true
   },
   "outputs": [],
   "source": [
    "x = [1,2,3,4,5,6]  \n",
    "#y[i] is the output of y = theta0+ theta1 * x[1]  \n",
    "y = [13,14,20,21,25,30]  "
   ]
  },
  {
   "cell_type": "code",
   "execution_count": 5,
   "metadata": {
    "collapsed": false
   },
   "outputs": [
    {
     "data": {
      "text/plain": [
       "<matplotlib.collections.PathCollection at 0x1eb63768240>"
      ]
     },
     "execution_count": 5,
     "metadata": {},
     "output_type": "execute_result"
    },
    {
     "data": {
      "image/png": "[encoded data removed]",
      "text/plain": [
       "<matplotlib.figure.Figure at 0x1eb658fc550>"
      ]
     },
     "metadata": {},
     "output_type": "display_data"
    }
   ],
   "source": [
    "plt.scatter(x,y)"
   ]
  },
  {
   "cell_type": "code",
   "execution_count": 25,
   "metadata": {
    "collapsed": true
   },
   "outputs": [],
   "source": [
    "epsilon = 0.01"
   ]
  },
  {
   "cell_type": "code",
   "execution_count": 26,
   "metadata": {
    "collapsed": true
   },
   "outputs": [],
   "source": [
    "alpha = 0.01\n",
    "diff = [0, 0]\n",
    "max_itor = 2000\n",
    "error1 = 0\n",
    "error0 = 0\n",
    "cnt = 0\n",
    "m = len(x)"
   ]
  },
  {
   "cell_type": "code",
   "execution_count": 27,
   "metadata": {
    "collapsed": true
   },
   "outputs": [],
   "source": [
    "theta0 = 0\n",
    "theta1 = 0"
   ]
  },
  {
   "cell_type": "code",
   "execution_count": 28,
   "metadata": {
    "collapsed": false
   },
   "outputs": [
    {
     "name": "stdout",
     "output_type": "stream",
     "text": [
      "theta0 :0.205000,theta1 :0.816667,error:1948.212261\n",
      "theta0 :0.379367,theta1 :1.502297,error:1395.602361\n",
      "theta0 :0.527993,theta1 :2.077838,error:1005.467313\n",
      "theta0 :0.654988,theta1 :2.560886,error:730.017909\n",
      "theta0 :0.763807,theta1 :2.966227,error:535.521394\n",
      "theta0 :0.857351,theta1 :3.306283,error:398.166976\n",
      "theta0 :0.938058,theta1 :3.591489,error:301.147437\n",
      "theta0 :1.007975,theta1 :3.830615,error:232.599138\n",
      "theta0 :1.068824,theta1 :4.031026,error:184.147948\n",
      "theta0 :1.122050,theta1 :4.198911,error:149.882851\n",
      "theta0 :1.168868,theta1 :4.339471,error:125.631467\n",
      "theta0 :1.210297,theta1 :4.457074,error:108.448654\n",
      "theta0 :1.247197,theta1 :4.555391,error:96.255537\n",
      "theta0 :1.280286,theta1 :4.637505,error:87.584709\n",
      "theta0 :1.310171,theta1 :4.706007,error:81.400378\n",
      "theta0 :1.337359,theta1 :4.763073,error:76.971413\n",
      "theta0 :1.362278,theta1 :4.810533,error:73.781731\n",
      "theta0 :1.385286,theta1 :4.849922,error:71.467048\n",
      "theta0 :1.406686,theta1 :4.882532,error:69.770228\n",
      "theta0 :1.426731,theta1 :4.909448,error:68.509764\n",
      "theta0 :1.445633,theta1 :4.931579,error:67.557539\n",
      "cnt>20\n",
      "theta0 :1.445633,theta1 :4.931579,error:67.557539\n"
     ]
    }
   ],
   "source": [
    "while True:\n",
    "    cnt+=1\n",
    "    diff=[0,0]\n",
    "    for i in range(m):\n",
    "        diff[0]+=theta0+theta1*x[i]-y[i]\n",
    "        diff[1]+=(theta0+theta1*x[i]-y[i])*x[i]\n",
    "    theta0-=alpha*diff[0]/m\n",
    "    theta1-=alpha*diff[1]/m\n",
    "    error1=0\n",
    "    for i in range(m):\n",
    "        error1+=(theta0+theta1*x[i]-y[i])**2\n",
    "    if abs(error1-error0)<epsilon:\n",
    "        break\n",
    "    print('theta0 :%f,theta1 :%f,error:%f'%(theta0,theta1,error1))\n",
    "    if cnt>20:\n",
    "        print('cnt>20')\n",
    "        break\n",
    "print('theta0 :%f,theta1 :%f,error:%f'%(theta0,theta1,error1))"
   ]
  },
  {
   "cell_type": "code",
   "execution_count": 20,
   "metadata": {
    "collapsed": false
   },
   "outputs": [
    {
     "data": {
      "text/plain": [
       "[<matplotlib.lines.Line2D at 0x1eb65cc3860>]"
      ]
     },
     "execution_count": 20,
     "metadata": {},
     "output_type": "execute_result"
    },
    {
     "data": {
      "image/png": "[encoded data removed]",
      "text/plain": [
       "<matplotlib.figure.Figure at 0x1eb65cc3898>"
      ]
     },
     "metadata": {},
     "output_type": "display_data"
    }
   ],
   "source": [
    "plt.scatter(x,y)\n",
    "plt.plot(x,[theta0+theta1*i for i in x])"
   ]
  },
  {
   "cell_type": "code",
   "execution_count": 93,
   "metadata": {
    "collapsed": false
   },
   "outputs": [],
   "source": [
    "def gd(x,y,total,alpha=0.01,theta0=0,theta1=0):\n",
    "    epsilon=0.01\n",
    "    m=len(x)\n",
    "    cnt=0\n",
    "    while True:\n",
    "        cnt+=1\n",
    "        diff=[0,0]\n",
    "        for i in range(m):\n",
    "            diff[0]+=theta0+theta1*x[i]-y[i]\n",
    "            diff[1]+=(theta0+theta1*x[i]-y[i])*x[i]\n",
    "        theta0-=alpha*diff[0]/m\n",
    "        theta1-=alpha*diff[1]/m\n",
    "        error1=0\n",
    "        for i in range(m):\n",
    "            error1+=(theta0+theta1*x[i]-y[i])**2/(2*m)\n",
    "        if abs(error1)<epsilon:\n",
    "            break\n",
    "        print('theta0 :%f,theta1 :%f,error:%f'%(theta0,theta1,error1))\n",
    "        if cnt>total:\n",
    "            print('cnt>%s'% total)\n",
    "            break\n",
    "    print('theta0 :%f,theta1 :%f,error:%f'%(theta0,theta1,error1))\n",
    "    plt.scatter(x,y)\n",
    "    plt.plot(x,[theta0+theta1*i for i in x])"
   ]
  },
  {
   "cell_type": "code",
   "execution_count": 67,
   "metadata": {
    "collapsed": true
   },
   "outputs": [],
   "source": [
    "np.random.seed(12)\n",
    "x = np.arange(-2,2,0.05)\n",
    "y = 2*x+np.random.random(len(x))"
   ]
  },
  {
   "cell_type": "code",
   "execution_count": 68,
   "metadata": {
    "collapsed": false
   },
   "outputs": [],
   "source": [
    "x = x.reshape((len(x),1))\n",
    "y = y.reshape((len(x),1))"
   ]
  },
  {
   "cell_type": "code",
   "execution_count": 80,
   "metadata": {
    "collapsed": false
   },
   "outputs": [
    {
     "name": "stdout",
     "output_type": "stream",
     "text": [
      "theta0 :0.004324,theta1 :0.026460,error:434.040144\n",
      "theta0 :0.008611,theta1 :0.052569,error:422.913412\n",
      "theta0 :0.012862,theta1 :0.078330,error:412.077813\n",
      "theta0 :0.017077,theta1 :0.103749,error:401.525704\n",
      "theta0 :0.021256,theta1 :0.128829,error:391.249643\n",
      "theta0 :0.025399,theta1 :0.153577,error:381.242383\n",
      "theta0 :0.029508,theta1 :0.177995,error:371.496868\n",
      "theta0 :0.033581,theta1 :0.202089,error:362.006230\n",
      "theta0 :0.037620,theta1 :0.225862,error:352.763778\n",
      "theta0 :0.041624,theta1 :0.249319,error:343.762999\n",
      "theta0 :0.045594,theta1 :0.272465,error:334.997552\n",
      "theta0 :0.049530,theta1 :0.295302,error:326.461262\n",
      "theta0 :0.053432,theta1 :0.317836,error:318.148117\n",
      "theta0 :0.057301,theta1 :0.340071,error:310.052261\n",
      "theta0 :0.061137,theta1 :0.362010,error:302.167996\n",
      "theta0 :0.064940,theta1 :0.383657,error:294.489771\n",
      "theta0 :0.068710,theta1 :0.405016,error:287.012181\n",
      "theta0 :0.072449,theta1 :0.426092,error:279.729965\n",
      "theta0 :0.076154,theta1 :0.446887,error:272.637998\n",
      "theta0 :0.079828,theta1 :0.467406,error:265.731292\n",
      "theta0 :0.083471,theta1 :0.487652,error:259.004989\n",
      "theta0 :0.087082,theta1 :0.507629,error:252.454359\n",
      "theta0 :0.090662,theta1 :0.527341,error:246.074797\n",
      "theta0 :0.094211,theta1 :0.546790,error:239.861817\n",
      "theta0 :0.097730,theta1 :0.565981,error:233.811053\n",
      "theta0 :0.101218,theta1 :0.584917,error:227.918254\n",
      "theta0 :0.104676,theta1 :0.603602,error:222.179280\n",
      "theta0 :0.108104,theta1 :0.622038,error:216.590098\n",
      "theta0 :0.111502,theta1 :0.640228,error:211.146784\n",
      "theta0 :0.114871,theta1 :0.658177,error:205.845517\n",
      "theta0 :0.118211,theta1 :0.675888,error:200.682573\n",
      "theta0 :0.121521,theta1 :0.693363,error:195.654330\n",
      "theta0 :0.124803,theta1 :0.710606,error:190.757258\n",
      "theta0 :0.128057,theta1 :0.727620,error:185.987922\n",
      "theta0 :0.131282,theta1 :0.744407,error:181.342977\n",
      "theta0 :0.134479,theta1 :0.760972,error:176.819165\n",
      "theta0 :0.137648,theta1 :0.777316,error:172.413313\n",
      "theta0 :0.140790,theta1 :0.793444,error:168.122332\n",
      "theta0 :0.143905,theta1 :0.809357,error:163.943216\n",
      "theta0 :0.146992,theta1 :0.825058,error:159.873036\n",
      "theta0 :0.150052,theta1 :0.840551,error:155.908939\n",
      "theta0 :0.153085,theta1 :0.855838,error:152.048150\n",
      "theta0 :0.156092,theta1 :0.870921,error:148.287963\n",
      "theta0 :0.159073,theta1 :0.885805,error:144.625747\n",
      "theta0 :0.162028,theta1 :0.900490,error:141.058938\n",
      "theta0 :0.164956,theta1 :0.914981,error:137.585038\n",
      "theta0 :0.167859,theta1 :0.929279,error:134.201618\n",
      "theta0 :0.170737,theta1 :0.943387,error:130.906311\n",
      "theta0 :0.173589,theta1 :0.957307,error:127.696810\n",
      "theta0 :0.176417,theta1 :0.971043,error:124.570872\n",
      "theta0 :0.179219,theta1 :0.984596,error:121.526312\n",
      "theta0 :0.181997,theta1 :0.997969,error:118.561001\n",
      "theta0 :0.184750,theta1 :1.011164,error:115.672867\n",
      "theta0 :0.187480,theta1 :1.024184,error:112.859891\n",
      "theta0 :0.190185,theta1 :1.037031,error:110.120110\n",
      "theta0 :0.192866,theta1 :1.049708,error:107.451609\n",
      "theta0 :0.195524,theta1 :1.062216,error:104.852526\n",
      "theta0 :0.198158,theta1 :1.074558,error:102.321046\n",
      "theta0 :0.200769,theta1 :1.086736,error:99.855402\n",
      "theta0 :0.203357,theta1 :1.098752,error:97.453874\n",
      "theta0 :0.205922,theta1 :1.110608,error:95.114786\n",
      "theta0 :0.208464,theta1 :1.122307,error:92.836508\n",
      "theta0 :0.210984,theta1 :1.133851,error:90.617451\n",
      "theta0 :0.213481,theta1 :1.145241,error:88.456067\n",
      "theta0 :0.215957,theta1 :1.156480,error:86.350851\n",
      "theta0 :0.218410,theta1 :1.167570,error:84.300335\n",
      "theta0 :0.220842,theta1 :1.178512,error:82.303092\n",
      "theta0 :0.223252,theta1 :1.189309,error:80.357729\n",
      "theta0 :0.225641,theta1 :1.199963,error:78.462894\n",
      "theta0 :0.228008,theta1 :1.210475,error:76.617266\n",
      "theta0 :0.230354,theta1 :1.220848,error:74.819562\n",
      "theta0 :0.232680,theta1 :1.231082,error:73.068530\n",
      "theta0 :0.234985,theta1 :1.241181,error:71.362953\n",
      "theta0 :0.237269,theta1 :1.251146,error:69.701644\n",
      "theta0 :0.239533,theta1 :1.260978,error:68.083449\n",
      "theta0 :0.241777,theta1 :1.270680,error:66.507243\n",
      "theta0 :0.244001,theta1 :1.280253,error:64.971930\n",
      "theta0 :0.246205,theta1 :1.289699,error:63.476443\n",
      "theta0 :0.248389,theta1 :1.299020,error:62.019745\n",
      "theta0 :0.250554,theta1 :1.308216,error:60.600824\n",
      "theta0 :0.252699,theta1 :1.317291,error:59.218695\n",
      "theta0 :0.254825,theta1 :1.326245,error:57.872397\n",
      "theta0 :0.256932,theta1 :1.335080,error:56.560999\n",
      "theta0 :0.259021,theta1 :1.343798,error:55.283589\n",
      "theta0 :0.261090,theta1 :1.352400,error:54.039282\n",
      "theta0 :0.263141,theta1 :1.360888,error:52.827216\n",
      "theta0 :0.265174,theta1 :1.369263,error:51.646550\n",
      "theta0 :0.267189,theta1 :1.377527,error:50.496466\n",
      "theta0 :0.269185,theta1 :1.385681,error:49.376168\n",
      "theta0 :0.271163,theta1 :1.393727,error:48.284880\n",
      "theta0 :0.273124,theta1 :1.401667,error:47.221846\n",
      "theta0 :0.275067,theta1 :1.409500,error:46.186331\n",
      "theta0 :0.276993,theta1 :1.417230,error:45.177617\n",
      "theta0 :0.278901,theta1 :1.424857,error:44.195008\n",
      "theta0 :0.280792,theta1 :1.432383,error:43.237824\n",
      "theta0 :0.282666,theta1 :1.439809,error:42.305402\n",
      "theta0 :0.284523,theta1 :1.447137,error:41.397099\n",
      "theta0 :0.286364,theta1 :1.454367,error:40.512287\n",
      "theta0 :0.288188,theta1 :1.461501,error:39.650355\n",
      "theta0 :0.289995,theta1 :1.468541,error:38.810707\n",
      "theta0 :0.291786,theta1 :1.475487,error:37.992764\n",
      "theta0 :0.293561,theta1 :1.482341,error:37.195962\n",
      "theta0 :0.295320,theta1 :1.489104,error:36.419750\n",
      "theta0 :0.297063,theta1 :1.495777,error:35.663593\n",
      "theta0 :0.298790,theta1 :1.502362,error:34.926970\n",
      "theta0 :0.300501,theta1 :1.508859,error:34.209373\n",
      "theta0 :0.302197,theta1 :1.515270,error:33.510308\n",
      "theta0 :0.303878,theta1 :1.521596,error:32.829293\n",
      "theta0 :0.305544,theta1 :1.527838,error:32.165858\n",
      "theta0 :0.307194,theta1 :1.533997,error:31.519548\n",
      "theta0 :0.308830,theta1 :1.540074,error:30.889916\n",
      "theta0 :0.310450,theta1 :1.546071,error:30.276531\n",
      "theta0 :0.312056,theta1 :1.551988,error:29.678970\n",
      "theta0 :0.313647,theta1 :1.557827,error:29.096822\n",
      "theta0 :0.315224,theta1 :1.563588,error:28.529688\n",
      "theta0 :0.316787,theta1 :1.569272,error:27.977176\n",
      "theta0 :0.318335,theta1 :1.574882,error:27.438908\n",
      "theta0 :0.319869,theta1 :1.580417,error:26.914515\n",
      "theta0 :0.321390,theta1 :1.585878,error:26.403635\n",
      "theta0 :0.322896,theta1 :1.591267,error:25.905919\n",
      "theta0 :0.324389,theta1 :1.596584,error:25.421024\n",
      "theta0 :0.325868,theta1 :1.601831,error:24.948619\n",
      "theta0 :0.327334,theta1 :1.607009,error:24.488379\n",
      "theta0 :0.328786,theta1 :1.612117,error:24.039989\n",
      "theta0 :0.330225,theta1 :1.617158,error:23.603142\n",
      "theta0 :0.331651,theta1 :1.622132,error:23.177539\n",
      "theta0 :0.333064,theta1 :1.627040,error:22.762888\n",
      "theta0 :0.334464,theta1 :1.631883,error:22.358904\n",
      "theta0 :0.335851,theta1 :1.636662,error:21.965313\n",
      "theta0 :0.337225,theta1 :1.641377,error:21.581844\n",
      "theta0 :0.338587,theta1 :1.646030,error:21.208236\n",
      "theta0 :0.339937,theta1 :1.650621,error:20.844232\n",
      "theta0 :0.341274,theta1 :1.655151,error:20.489585\n",
      "theta0 :0.342599,theta1 :1.659621,error:20.144052\n",
      "theta0 :0.343912,theta1 :1.664031,error:19.807396\n",
      "theta0 :0.345213,theta1 :1.668384,error:19.479389\n",
      "theta0 :0.346501,theta1 :1.672678,error:19.159807\n",
      "theta0 :0.347778,theta1 :1.676916,error:18.848431\n",
      "theta0 :0.349044,theta1 :1.681097,error:18.545049\n",
      "theta0 :0.350298,theta1 :1.685223,error:18.249454\n",
      "theta0 :0.351540,theta1 :1.689294,error:17.961445\n",
      "theta0 :0.352771,theta1 :1.693311,error:17.680826\n",
      "theta0 :0.353990,theta1 :1.697275,error:17.407406\n",
      "theta0 :0.355198,theta1 :1.701186,error:17.140998\n",
      "theta0 :0.356396,theta1 :1.705046,error:16.881421\n",
      "theta0 :0.357582,theta1 :1.708854,error:16.628500\n",
      "theta0 :0.358757,theta1 :1.712612,error:16.382061\n",
      "theta0 :0.359921,theta1 :1.716320,error:16.141937\n",
      "theta0 :0.361075,theta1 :1.719979,error:15.907965\n",
      "theta0 :0.362218,theta1 :1.723589,error:15.679987\n",
      "theta0 :0.363351,theta1 :1.727152,error:15.457848\n",
      "theta0 :0.364473,theta1 :1.730667,error:15.241396\n",
      "theta0 :0.365585,theta1 :1.734135,error:15.030485\n",
      "theta0 :0.366686,theta1 :1.737558,error:14.824973\n",
      "theta0 :0.367778,theta1 :1.740935,error:14.624719\n",
      "theta0 :0.368859,theta1 :1.744268,error:14.429588\n",
      "theta0 :0.369930,theta1 :1.747556,error:14.239447\n",
      "theta0 :0.370992,theta1 :1.750801,error:14.054169\n",
      "theta0 :0.372044,theta1 :1.754002,error:13.873628\n",
      "theta0 :0.373086,theta1 :1.757162,error:13.697702\n",
      "theta0 :0.374118,theta1 :1.760279,error:13.526271\n",
      "theta0 :0.375141,theta1 :1.763355,error:13.359220\n",
      "theta0 :0.376154,theta1 :1.766390,error:13.196436\n",
      "theta0 :0.377158,theta1 :1.769386,error:13.037809\n",
      "theta0 :0.378153,theta1 :1.772341,error:12.883232\n",
      "theta0 :0.379138,theta1 :1.775257,error:12.732601\n",
      "theta0 :0.380114,theta1 :1.778135,error:12.585814\n",
      "theta0 :0.381082,theta1 :1.780974,error:12.442771\n",
      "theta0 :0.382040,theta1 :1.783776,error:12.303378\n",
      "theta0 :0.382989,theta1 :1.786541,error:12.167539\n",
      "theta0 :0.383930,theta1 :1.789269,error:12.035164\n",
      "theta0 :0.384862,theta1 :1.791960,error:11.906163\n",
      "theta0 :0.385785,theta1 :1.794617,error:11.780450\n",
      "theta0 :0.386700,theta1 :1.797238,error:11.657939\n",
      "theta0 :0.387606,theta1 :1.799824,error:11.538549\n",
      "theta0 :0.388504,theta1 :1.802376,error:11.422199\n",
      "theta0 :0.389393,theta1 :1.804894,error:11.308812\n",
      "theta0 :0.390274,theta1 :1.807379,error:11.198310\n",
      "theta0 :0.391147,theta1 :1.809831,error:11.090621\n",
      "theta0 :0.392012,theta1 :1.812250,error:10.985671\n",
      "theta0 :0.392869,theta1 :1.814638,error:10.883391\n",
      "theta0 :0.393718,theta1 :1.816993,error:10.783711\n",
      "theta0 :0.394559,theta1 :1.819318,error:10.686566\n",
      "theta0 :0.395392,theta1 :1.821612,error:10.591890\n",
      "theta0 :0.396217,theta1 :1.823875,error:10.499619\n",
      "theta0 :0.397035,theta1 :1.826108,error:10.409692\n",
      "theta0 :0.397845,theta1 :1.828312,error:10.322049\n",
      "theta0 :0.398647,theta1 :1.830487,error:10.236631\n",
      "theta0 :0.399442,theta1 :1.832633,error:10.153382\n",
      "theta0 :0.400230,theta1 :1.834750,error:10.072245\n",
      "theta0 :0.401010,theta1 :1.836839,error:9.993167\n",
      "theta0 :0.401783,theta1 :1.838901,error:9.916094\n",
      "theta0 :0.402549,theta1 :1.840935,error:9.840976\n",
      "theta0 :0.403308,theta1 :1.842943,error:9.767762\n",
      "theta0 :0.404059,theta1 :1.844924,error:9.696404\n",
      "theta0 :0.404804,theta1 :1.846878,error:9.626853\n",
      "theta0 :0.405541,theta1 :1.848807,error:9.559065\n",
      "theta0 :0.406272,theta1 :1.850710,error:9.492993\n",
      "theta0 :0.406996,theta1 :1.852588,error:9.428594\n",
      "theta0 :0.407713,theta1 :1.854441,error:9.365825\n",
      "theta0 :0.408423,theta1 :1.856270,error:9.304644\n",
      "cnt>200\n",
      "theta0 :0.408423,theta1 :1.856270,error:9.304644\n"
     ]
    },
    {
     "data": {
      "image/png": "[encoded data removed]",
      "text/plain": [
       "<matplotlib.figure.Figure at 0x1eb66195710>"
      ]
     },
     "metadata": {},
     "output_type": "display_data"
    }
   ],
   "source": [
    "gd(x,y,200)"
   ]
  },
  {
   "cell_type": "code",
   "execution_count": 83,
   "metadata": {
    "collapsed": true
   },
   "outputs": [],
   "source": [
    "def gd_stochastic(x,y,total,alpha=0.001,theta0=0,theta1=0):\n",
    "    epsilon=1\n",
    "    m=len(x)\n",
    "    cnt=0\n",
    "    err=[]\n",
    "    while True:\n",
    "        cnt+=1\n",
    "        diff=[0,0]\n",
    "        for i in range(m):\n",
    "            diff[0]+=(theta0+theta1*x[i]-y[i])*(alpha+1/(i+1))\n",
    "            diff[1]+=(theta0+theta1*x[i]-y[i])*x[i]*(alpha+1/(i+1))\n",
    "        theta0-=diff[0]/m\n",
    "        theta1-=diff[1]/m\n",
    "        error1=0\n",
    "        for i in range(m):\n",
    "            error1+=(theta0+theta1*x[i]-y[i])**2\n",
    "        if abs(error1)<epsilon:\n",
    "            break\n",
    "        err.append(error1)\n",
    "        print('theta0 :%f,theta1 :%f,error:%f'%(theta0,theta1,error1))\n",
    "        if cnt>total:\n",
    "            print('cnt>%s'% total)\n",
    "            break\n",
    "    print('theta0 :%f,theta1 :%f,error:%f'%(theta0,theta1,error1))\n",
    "    f,ax=plt.subplots(1,2)\n",
    "    ax[0].scatter(x,y)\n",
    "    ax[0].plot(x,[theta0+theta1*i for i in x])\n",
    "    ax[1].plot(list(range(total+1)),err)"
   ]
  },
  {
   "cell_type": "code",
   "execution_count": 30,
   "metadata": {
    "collapsed": false
   },
   "outputs": [
    {
     "name": "stdout",
     "output_type": "stream",
     "text": [
      "theta0 :-0.127033,theta1 :0.285569,error:343.491936\n",
      "theta0 :-0.223989,theta1 :0.516081,error:275.366087\n",
      "theta0 :-0.297020,theta1 :0.702583,error:229.127846\n",
      "theta0 :-0.351035,theta1 :0.853895,error:197.098591\n",
      "theta0 :-0.389952,theta1 :0.977062,error:174.340830\n",
      "theta0 :-0.416898,theta1 :1.077709,error:157.673437\n",
      "theta0 :-0.434369,theta1 :1.160328,error:145.041901\n",
      "theta0 :-0.444353,theta1 :1.228509,error:135.115330\n",
      "theta0 :-0.448440,theta1 :1.285117,error:127.028350\n",
      "theta0 :-0.447896,theta1 :1.332440,error:120.215644\n",
      "theta0 :-0.443729,theta1 :1.372309,error:114.305756\n",
      "theta0 :-0.436744,theta1 :1.406183,error:109.052832\n",
      "theta0 :-0.427583,theta1 :1.435230,error:104.292675\n",
      "theta0 :-0.416755,theta1 :1.460383,error:99.914388\n",
      "theta0 :-0.404667,theta1 :1.482388,error:95.842037\n",
      "theta0 :-0.391641,theta1 :1.501841,error:92.022760\n",
      "theta0 :-0.377933,theta1 :1.519218,error:88.419019\n",
      "theta0 :-0.363747,theta1 :1.534902,error:85.003547\n",
      "theta0 :-0.349245,theta1 :1.549197,error:81.756019\n",
      "theta0 :-0.334552,theta1 :1.562348,error:78.660863\n",
      "theta0 :-0.319770,theta1 :1.574550,error:75.705799\n",
      "theta0 :-0.304977,theta1 :1.585962,error:72.880863\n",
      "theta0 :-0.290235,theta1 :1.596708,error:70.177751\n",
      "theta0 :-0.275593,theta1 :1.606891,error:67.589367\n",
      "theta0 :-0.261088,theta1 :1.616592,error:65.109514\n",
      "theta0 :-0.246748,theta1 :1.625877,error:62.732682\n",
      "theta0 :-0.232594,theta1 :1.634799,error:60.453891\n",
      "theta0 :-0.218644,theta1 :1.643401,error:58.268589\n",
      "theta0 :-0.204910,theta1 :1.651719,error:56.172568\n",
      "theta0 :-0.191399,theta1 :1.659779,error:54.161909\n",
      "theta0 :-0.178117,theta1 :1.667607,error:52.232939\n",
      "theta0 :-0.165068,theta1 :1.675221,error:50.382195\n",
      "theta0 :-0.152253,theta1 :1.682636,error:48.606405\n",
      "theta0 :-0.139674,theta1 :1.689867,error:46.902462\n",
      "theta0 :-0.127330,theta1 :1.696925,error:45.267411\n",
      "theta0 :-0.115219,theta1 :1.703818,error:43.698436\n",
      "theta0 :-0.103339,theta1 :1.710555,error:42.192849\n",
      "theta0 :-0.091688,theta1 :1.717142,error:40.748080\n",
      "theta0 :-0.080262,theta1 :1.723586,error:39.361673\n",
      "theta0 :-0.069060,theta1 :1.729892,error:38.031274\n",
      "theta0 :-0.058076,theta1 :1.736064,error:36.754630\n",
      "theta0 :-0.047309,theta1 :1.742108,error:35.529580\n",
      "theta0 :-0.036753,theta1 :1.748025,error:34.354054\n",
      "theta0 :-0.026406,theta1 :1.753821,error:33.226064\n",
      "theta0 :-0.016264,theta1 :1.759498,error:32.143705\n",
      "theta0 :-0.006323,theta1 :1.765060,error:31.105150\n",
      "theta0 :0.003421,theta1 :1.770508,error:30.108642\n",
      "theta0 :0.012972,theta1 :1.775846,error:29.152498\n",
      "theta0 :0.022332,theta1 :1.781076,error:28.235102\n",
      "theta0 :0.031506,theta1 :1.786201,error:27.354901\n",
      "theta0 :0.040498,theta1 :1.791223,error:26.510406\n",
      "theta0 :0.049310,theta1 :1.796144,error:25.700187\n",
      "theta0 :0.057947,theta1 :1.800966,error:24.922871\n",
      "theta0 :0.066412,theta1 :1.805692,error:24.177140\n",
      "theta0 :0.074708,theta1 :1.810323,error:23.461727\n",
      "theta0 :0.082839,theta1 :1.814861,error:22.775418\n",
      "theta0 :0.090808,theta1 :1.819309,error:22.117046\n",
      "theta0 :0.098617,theta1 :1.823667,error:21.485489\n",
      "theta0 :0.106271,theta1 :1.827939,error:20.879674\n",
      "theta0 :0.113772,theta1 :1.832125,error:20.298566\n",
      "theta0 :0.121124,theta1 :1.836228,error:19.741174\n",
      "theta0 :0.128329,theta1 :1.840248,error:19.206547\n",
      "theta0 :0.135390,theta1 :1.844189,error:18.693769\n",
      "theta0 :0.142310,theta1 :1.848050,error:18.201962\n",
      "theta0 :0.149092,theta1 :1.851835,error:17.730285\n",
      "theta0 :0.155739,theta1 :1.855544,error:17.277927\n",
      "theta0 :0.162253,theta1 :1.859179,error:16.844112\n",
      "theta0 :0.168638,theta1 :1.862741,error:16.428094\n",
      "theta0 :0.174895,theta1 :1.866233,error:16.029156\n",
      "theta0 :0.181027,theta1 :1.869654,error:15.646611\n",
      "theta0 :0.187036,theta1 :1.873008,error:15.279798\n",
      "theta0 :0.192926,theta1 :1.876294,error:14.928084\n",
      "theta0 :0.198698,theta1 :1.879515,error:14.590859\n",
      "theta0 :0.204355,theta1 :1.882672,error:14.267540\n",
      "theta0 :0.209899,theta1 :1.885765,error:13.957566\n",
      "theta0 :0.215333,theta1 :1.888797,error:13.660397\n",
      "theta0 :0.220658,theta1 :1.891768,error:13.375517\n",
      "theta0 :0.225877,theta1 :1.894681,error:13.102429\n",
      "theta0 :0.230991,theta1 :1.897534,error:12.840657\n",
      "theta0 :0.236004,theta1 :1.900331,error:12.589742\n",
      "theta0 :0.240916,theta1 :1.903073,error:12.349247\n",
      "theta0 :0.245731,theta1 :1.905759,error:12.118748\n",
      "theta0 :0.250449,theta1 :1.908392,error:11.897842\n",
      "theta0 :0.255074,theta1 :1.910972,error:11.686139\n",
      "theta0 :0.259606,theta1 :1.913501,error:11.483266\n",
      "theta0 :0.264047,theta1 :1.915979,error:11.288865\n",
      "theta0 :0.268400,theta1 :1.918408,error:11.102593\n",
      "theta0 :0.272666,theta1 :1.920789,error:10.924118\n",
      "theta0 :0.276847,theta1 :1.923122,error:10.753125\n",
      "theta0 :0.280945,theta1 :1.925408,error:10.589309\n",
      "theta0 :0.284961,theta1 :1.927649,error:10.432379\n",
      "theta0 :0.288896,theta1 :1.929845,error:10.282053\n",
      "theta0 :0.292753,theta1 :1.931997,error:10.138063\n",
      "theta0 :0.296534,theta1 :1.934106,error:10.000150\n",
      "theta0 :0.300238,theta1 :1.936173,error:9.868067\n",
      "theta0 :0.303869,theta1 :1.938199,error:9.741576\n",
      "theta0 :0.307427,theta1 :1.940185,error:9.620449\n",
      "theta0 :0.310915,theta1 :1.942131,error:9.504465\n",
      "theta0 :0.314332,theta1 :1.944038,error:9.393416\n",
      "theta0 :0.317682,theta1 :1.945907,error:9.287098\n",
      "theta0 :0.320965,theta1 :1.947739,error:9.185318\n",
      "theta0 :0.324182,theta1 :1.949534,error:9.087890\n",
      "theta0 :0.327335,theta1 :1.951293,error:8.994635\n",
      "theta0 :0.330425,theta1 :1.953017,error:8.905382\n",
      "theta0 :0.333453,theta1 :1.954707,error:8.819967\n",
      "theta0 :0.336421,theta1 :1.956363,error:8.738232\n",
      "theta0 :0.339330,theta1 :1.957986,error:8.660025\n",
      "theta0 :0.342180,theta1 :1.959577,error:8.585201\n",
      "theta0 :0.344974,theta1 :1.961136,error:8.513620\n",
      "theta0 :0.347712,theta1 :1.962663,error:8.445149\n",
      "theta0 :0.350396,theta1 :1.964161,error:8.379659\n",
      "theta0 :0.353026,theta1 :1.965628,error:8.317026\n",
      "theta0 :0.355603,theta1 :1.967066,error:8.257133\n",
      "theta0 :0.358129,theta1 :1.968476,error:8.199866\n",
      "theta0 :0.360604,theta1 :1.969857,error:8.145116\n",
      "theta0 :0.363031,theta1 :1.971211,error:8.092778\n",
      "theta0 :0.365408,theta1 :1.972538,error:8.042753\n",
      "theta0 :0.367739,theta1 :1.973838,error:7.994943\n",
      "theta0 :0.370022,theta1 :1.975112,error:7.949257\n",
      "theta0 :0.372260,theta1 :1.976361,error:7.905606\n",
      "theta0 :0.374454,theta1 :1.977585,error:7.863905\n",
      "theta0 :0.376604,theta1 :1.978785,error:7.824073\n",
      "theta0 :0.378711,theta1 :1.979960,error:7.786031\n",
      "theta0 :0.380775,theta1 :1.981112,error:7.749704\n",
      "theta0 :0.382799,theta1 :1.982242,error:7.715020\n",
      "theta0 :0.384782,theta1 :1.983348,error:7.681910\n",
      "theta0 :0.386726,theta1 :1.984433,error:7.650308\n",
      "theta0 :0.388631,theta1 :1.985496,error:7.620150\n",
      "theta0 :0.390498,theta1 :1.986537,error:7.591376\n",
      "theta0 :0.392327,theta1 :1.987558,error:7.563926\n",
      "theta0 :0.394120,theta1 :1.988559,error:7.537746\n",
      "theta0 :0.395878,theta1 :1.989539,error:7.512780\n",
      "theta0 :0.397600,theta1 :1.990500,error:7.488977\n",
      "theta0 :0.399288,theta1 :1.991442,error:7.466288\n",
      "theta0 :0.400942,theta1 :1.992365,error:7.444666\n",
      "theta0 :0.402563,theta1 :1.993270,error:7.424065\n",
      "theta0 :0.404152,theta1 :1.994156,error:7.404440\n",
      "theta0 :0.405709,theta1 :1.995025,error:7.385751\n",
      "theta0 :0.407235,theta1 :1.995877,error:7.367957\n",
      "theta0 :0.408731,theta1 :1.996711,error:7.351020\n",
      "theta0 :0.410197,theta1 :1.997529,error:7.334903\n",
      "theta0 :0.411633,theta1 :1.998331,error:7.319570\n",
      "theta0 :0.413041,theta1 :1.999116,error:7.304987\n",
      "theta0 :0.414421,theta1 :1.999886,error:7.291122\n",
      "theta0 :0.415773,theta1 :2.000641,error:7.277944\n",
      "theta0 :0.417098,theta1 :2.001380,error:7.265423\n",
      "theta0 :0.418397,theta1 :2.002105,error:7.253530\n",
      "theta0 :0.419670,theta1 :2.002815,error:7.242237\n",
      "theta0 :0.420917,theta1 :2.003511,error:7.231519\n",
      "theta0 :0.422140,theta1 :2.004193,error:7.221350\n",
      "theta0 :0.423338,theta1 :2.004862,error:7.211705\n",
      "theta0 :0.424512,theta1 :2.005517,error:7.202563\n",
      "theta0 :0.425663,theta1 :2.006159,error:7.193900\n",
      "theta0 :0.426791,theta1 :2.006789,error:7.185694\n",
      "theta0 :0.427896,theta1 :2.007405,error:7.177927\n",
      "theta0 :0.428980,theta1 :2.008010,error:7.170578\n",
      "theta0 :0.430041,theta1 :2.008602,error:7.163628\n",
      "theta0 :0.431082,theta1 :2.009183,error:7.157060\n",
      "theta0 :0.432102,theta1 :2.009752,error:7.150856\n",
      "theta0 :0.433101,theta1 :2.010309,error:7.144999\n",
      "theta0 :0.434081,theta1 :2.010856,error:7.139475\n",
      "theta0 :0.435040,theta1 :2.011392,error:7.134267\n",
      "theta0 :0.435981,theta1 :2.011917,error:7.129362\n",
      "theta0 :0.436903,theta1 :2.012431,error:7.124746\n",
      "theta0 :0.437807,theta1 :2.012935,error:7.120404\n",
      "theta0 :0.438692,theta1 :2.013429,error:7.116325\n",
      "theta0 :0.439560,theta1 :2.013914,error:7.112497\n",
      "theta0 :0.440411,theta1 :2.014388,error:7.108907\n",
      "theta0 :0.441244,theta1 :2.014853,error:7.105544\n",
      "theta0 :0.442061,theta1 :2.015309,error:7.102398\n",
      "theta0 :0.442862,theta1 :2.015756,error:7.099459\n",
      "theta0 :0.443647,theta1 :2.016194,error:7.096716\n",
      "theta0 :0.444416,theta1 :2.016623,error:7.094161\n",
      "theta0 :0.445169,theta1 :2.017043,error:7.091784\n",
      "theta0 :0.445908,theta1 :2.017455,error:7.089577\n",
      "theta0 :0.446632,theta1 :2.017859,error:7.087531\n",
      "theta0 :0.447341,theta1 :2.018255,error:7.085640\n",
      "theta0 :0.448036,theta1 :2.018643,error:7.083894\n",
      "theta0 :0.448718,theta1 :2.019023,error:7.082287\n",
      "theta0 :0.449386,theta1 :2.019396,error:7.080812\n",
      "theta0 :0.450040,theta1 :2.019761,error:7.079463\n",
      "theta0 :0.450682,theta1 :2.020119,error:7.078233\n",
      "theta0 :0.451310,theta1 :2.020470,error:7.077116\n",
      "theta0 :0.451926,theta1 :2.020814,error:7.076107\n",
      "theta0 :0.452530,theta1 :2.021151,error:7.075199\n",
      "theta0 :0.453122,theta1 :2.021481,error:7.074388\n",
      "theta0 :0.453702,theta1 :2.021804,error:7.073669\n",
      "theta0 :0.454270,theta1 :2.022122,error:7.073036\n",
      "theta0 :0.454827,theta1 :2.022432,error:7.072486\n",
      "theta0 :0.455373,theta1 :2.022737,error:7.072013\n",
      "theta0 :0.455908,theta1 :2.023035,error:7.071614\n",
      "theta0 :0.456432,theta1 :2.023328,error:7.071285\n",
      "theta0 :0.456946,theta1 :2.023615,error:7.071021\n",
      "theta0 :0.457450,theta1 :2.023896,error:7.070820\n",
      "theta0 :0.457943,theta1 :2.024171,error:7.070677\n",
      "theta0 :0.458427,theta1 :2.024441,error:7.070590\n",
      "theta0 :0.458901,theta1 :2.024706,error:7.070554\n",
      "theta0 :0.459366,theta1 :2.024965,error:7.070568\n",
      "theta0 :0.459821,theta1 :2.025219,error:7.070628\n",
      "theta0 :0.460267,theta1 :2.025468,error:7.070731\n",
      "theta0 :0.460705,theta1 :2.025712,error:7.070876\n",
      "cnt>200\n",
      "theta0 :0.460705,theta1 :2.025712,error:7.070876\n",
      "Wall time: 498 ms\n"
     ]
    },
    {
     "data": {
      "image/png": "[encoded data removed]",
      "text/plain": [
       "<matplotlib.figure.Figure at 0x2501e7e3588>"
      ]
     },
     "metadata": {},
     "output_type": "display_data"
    }
   ],
   "source": [
    "%time gd_stochastic(x,y,200)"
   ]
  },
  {
   "cell_type": "code",
   "execution_count": 95,
   "metadata": {
    "collapsed": true
   },
   "outputs": [],
   "source": [
    "def normaleq(x,y):\n",
    "    XX=np.mat(x)\n",
    "    one=np.ones((len(x),1))\n",
    "    X=np.column_stack((one,XX))\n",
    "    Y=np.mat(y)\n",
    "    theta=np.dot((np.dot(X.T,X)).I,np.dot(X.T,Y))\n",
    "    err=np.dot((np.dot(X,theta)-Y).T,np.dot(X,theta)-Y)\n",
    "    print('theta0: %f \\ntheta1: %f \\nerror: %f'%(theta[0],theta[1],err))\n",
    "    plt.scatter(x,y)\n",
    "    plt.plot(x,[theta[0,0]+theta[1,0]*i for i in x])"
   ]
  },
  {
   "cell_type": "code",
   "execution_count": 17,
   "metadata": {
    "collapsed": false
   },
   "outputs": [
    {
     "name": "stdout",
     "output_type": "stream",
     "text": [
      "theta0: 0.482211 \n",
      "theta1: 1.992938 \n",
      "error: 6.916445\n"
     ]
    },
    {
     "data": {
      "image/png": "[encoded data removed]",
      "text/plain": [
       "<matplotlib.figure.Figure at 0x28e4daed940>"
      ]
     },
     "metadata": {},
     "output_type": "display_data"
    }
   ],
   "source": [
    "theta=normaleq(x,y)"
   ]
  },
  {
   "cell_type": "code",
   "execution_count": 18,
   "metadata": {
    "collapsed": false
   },
   "outputs": [],
   "source": [
    "def testsum(x,y):\n",
    "    a=0\n",
    "    for i in range(len(y)):\n",
    "        a+=x[i]*y[i]\n",
    "    return a"
   ]
  },
  {
   "cell_type": "code",
   "execution_count": 15,
   "metadata": {
    "collapsed": false
   },
   "outputs": [
    {
     "name": "stdout",
     "output_type": "stream",
     "text": [
      "The slowest run took 106.67 times longer than the fastest. This could mean that an intermediate result is being cached.\n",
      "1000000 loops, best of 3: 1.35 µs per loop\n"
     ]
    }
   ],
   "source": [
    "%timeit x.T.dot(y)"
   ]
  },
  {
   "cell_type": "code",
   "execution_count": 20,
   "metadata": {
    "collapsed": false
   },
   "outputs": [
    {
     "name": "stdout",
     "output_type": "stream",
     "text": [
      "10000 loops, best of 3: 151 µs per loop\n"
     ]
    }
   ],
   "source": [
    "%timeit testsum(x,y)"
   ]
  },
  {
   "cell_type": "code",
   "execution_count": 69,
   "metadata": {
    "collapsed": false
   },
   "outputs": [
    {
     "name": "stdout",
     "output_type": "stream",
     "text": [
      "theta0 :0.034591,theta1 :0.211682,error:445.465859\n",
      "theta0 :0.034591,theta1 :0.211682,error:445.465859\n",
      "theta0 :0.034591,theta1 :0.211682,error:445.465859\n",
      "theta0 :0.034591,theta1 :0.211682,error:445.465859\n",
      "theta0 :0.034591,theta1 :0.211682,error:445.465859\n",
      "theta0 :0.034591,theta1 :0.211682,error:445.465859\n",
      "theta0 :0.034591,theta1 :0.211682,error:445.465859\n",
      "theta0 :0.034591,theta1 :0.211682,error:445.465859\n",
      "theta0 :0.034591,theta1 :0.211682,error:445.465859\n",
      "theta0 :0.034591,theta1 :0.211682,error:445.465859\n",
      "theta0 :0.034591,theta1 :0.211682,error:445.465859\n",
      "theta0 :0.034591,theta1 :0.211682,error:445.465859\n",
      "theta0 :0.034591,theta1 :0.211682,error:445.465859\n",
      "theta0 :0.034591,theta1 :0.211682,error:445.465859\n",
      "theta0 :0.034591,theta1 :0.211682,error:445.465859\n",
      "theta0 :0.034591,theta1 :0.211682,error:445.465859\n",
      "theta0 :0.034591,theta1 :0.211682,error:445.465859\n",
      "theta0 :0.034591,theta1 :0.211682,error:445.465859\n",
      "theta0 :0.034591,theta1 :0.211682,error:445.465859\n",
      "theta0 :0.034591,theta1 :0.211682,error:445.465859\n",
      "theta0 :0.034591,theta1 :0.211682,error:445.465859\n",
      "theta0 :0.034591,theta1 :0.211682,error:445.465859\n",
      "theta0 :0.034591,theta1 :0.211682,error:445.465859\n",
      "theta0 :0.034591,theta1 :0.211682,error:445.465859\n",
      "theta0 :0.034591,theta1 :0.211682,error:445.465859\n",
      "theta0 :0.034591,theta1 :0.211682,error:445.465859\n",
      "theta0 :0.034591,theta1 :0.211682,error:445.465859\n",
      "theta0 :0.034591,theta1 :0.211682,error:445.465859\n",
      "theta0 :0.034591,theta1 :0.211682,error:445.465859\n",
      "theta0 :0.034591,theta1 :0.211682,error:445.465859\n",
      "theta0 :0.034591,theta1 :0.211682,error:445.465859\n",
      "theta0 :0.034591,theta1 :0.211682,error:445.465859\n",
      "theta0 :0.034591,theta1 :0.211682,error:445.465859\n",
      "theta0 :0.034591,theta1 :0.211682,error:445.465859\n",
      "theta0 :0.034591,theta1 :0.211682,error:445.465859\n",
      "theta0 :0.034591,theta1 :0.211682,error:445.465859\n",
      "theta0 :0.034591,theta1 :0.211682,error:445.465859\n",
      "theta0 :0.034591,theta1 :0.211682,error:445.465859\n",
      "theta0 :0.034591,theta1 :0.211682,error:445.465859\n",
      "theta0 :0.034591,theta1 :0.211682,error:445.465859\n",
      "theta0 :0.034591,theta1 :0.211682,error:445.465859\n",
      "theta0 :0.034591,theta1 :0.211682,error:445.465859\n",
      "theta0 :0.034591,theta1 :0.211682,error:445.465859\n",
      "theta0 :0.034591,theta1 :0.211682,error:445.465859\n",
      "theta0 :0.034591,theta1 :0.211682,error:445.465859\n",
      "theta0 :0.034591,theta1 :0.211682,error:445.465859\n",
      "theta0 :0.034591,theta1 :0.211682,error:445.465859\n",
      "theta0 :0.034591,theta1 :0.211682,error:445.465859\n",
      "theta0 :0.034591,theta1 :0.211682,error:445.465859\n",
      "theta0 :0.034591,theta1 :0.211682,error:445.465859\n",
      "theta0 :0.034591,theta1 :0.211682,error:445.465859\n",
      "theta0 :0.034591,theta1 :0.211682,error:445.465859\n",
      "theta0 :0.034591,theta1 :0.211682,error:445.465859\n",
      "theta0 :0.034591,theta1 :0.211682,error:445.465859\n",
      "theta0 :0.034591,theta1 :0.211682,error:445.465859\n",
      "theta0 :0.034591,theta1 :0.211682,error:445.465859\n",
      "theta0 :0.034591,theta1 :0.211682,error:445.465859\n",
      "theta0 :0.034591,theta1 :0.211682,error:445.465859\n",
      "theta0 :0.034591,theta1 :0.211682,error:445.465859\n",
      "theta0 :0.034591,theta1 :0.211682,error:445.465859\n",
      "theta0 :0.034591,theta1 :0.211682,error:445.465859\n",
      "theta0 :0.034591,theta1 :0.211682,error:445.465859\n",
      "theta0 :0.034591,theta1 :0.211682,error:445.465859\n",
      "theta0 :0.034591,theta1 :0.211682,error:445.465859\n",
      "theta0 :0.034591,theta1 :0.211682,error:445.465859\n",
      "theta0 :0.034591,theta1 :0.211682,error:445.465859\n",
      "theta0 :0.034591,theta1 :0.211682,error:445.465859\n",
      "theta0 :0.034591,theta1 :0.211682,error:445.465859\n",
      "theta0 :0.034591,theta1 :0.211682,error:445.465859\n",
      "theta0 :0.034591,theta1 :0.211682,error:445.465859\n",
      "theta0 :0.034591,theta1 :0.211682,error:445.465859\n",
      "theta0 :0.034591,theta1 :0.211682,error:445.465859\n",
      "theta0 :0.034591,theta1 :0.211682,error:445.465859\n",
      "theta0 :0.034591,theta1 :0.211682,error:445.465859\n",
      "theta0 :0.034591,theta1 :0.211682,error:445.465859\n",
      "theta0 :0.034591,theta1 :0.211682,error:445.465859\n",
      "theta0 :0.034591,theta1 :0.211682,error:445.465859\n",
      "theta0 :0.034591,theta1 :0.211682,error:445.465859\n",
      "theta0 :0.034591,theta1 :0.211682,error:445.465859\n",
      "theta0 :0.034591,theta1 :0.211682,error:445.465859\n",
      "theta0 :0.034591,theta1 :0.211682,error:445.465859\n",
      "theta0 :0.034591,theta1 :0.211682,error:445.465859\n",
      "theta0 :0.034591,theta1 :0.211682,error:445.465859\n",
      "theta0 :0.034591,theta1 :0.211682,error:445.465859\n",
      "theta0 :0.034591,theta1 :0.211682,error:445.465859\n",
      "theta0 :0.034591,theta1 :0.211682,error:445.465859\n",
      "theta0 :0.034591,theta1 :0.211682,error:445.465859\n",
      "theta0 :0.034591,theta1 :0.211682,error:445.465859\n",
      "theta0 :0.034591,theta1 :0.211682,error:445.465859\n",
      "theta0 :0.034591,theta1 :0.211682,error:445.465859\n",
      "theta0 :0.034591,theta1 :0.211682,error:445.465859\n",
      "theta0 :0.034591,theta1 :0.211682,error:445.465859\n",
      "theta0 :0.034591,theta1 :0.211682,error:445.465859\n",
      "theta0 :0.034591,theta1 :0.211682,error:445.465859\n",
      "theta0 :0.034591,theta1 :0.211682,error:445.465859\n",
      "theta0 :0.034591,theta1 :0.211682,error:445.465859\n",
      "theta0 :0.034591,theta1 :0.211682,error:445.465859\n",
      "theta0 :0.034591,theta1 :0.211682,error:445.465859\n",
      "theta0 :0.034591,theta1 :0.211682,error:445.465859\n",
      "theta0 :0.034591,theta1 :0.211682,error:445.465859\n",
      "theta0 :0.034591,theta1 :0.211682,error:445.465859\n",
      "theta0 :0.034591,theta1 :0.211682,error:445.465859\n",
      "theta0 :0.034591,theta1 :0.211682,error:445.465859\n",
      "theta0 :0.034591,theta1 :0.211682,error:445.465859\n",
      "theta0 :0.034591,theta1 :0.211682,error:445.465859\n",
      "theta0 :0.034591,theta1 :0.211682,error:445.465859\n",
      "theta0 :0.034591,theta1 :0.211682,error:445.465859\n",
      "theta0 :0.034591,theta1 :0.211682,error:445.465859\n",
      "theta0 :0.034591,theta1 :0.211682,error:445.465859\n",
      "theta0 :0.034591,theta1 :0.211682,error:445.465859\n",
      "theta0 :0.034591,theta1 :0.211682,error:445.465859\n",
      "theta0 :0.034591,theta1 :0.211682,error:445.465859\n",
      "theta0 :0.034591,theta1 :0.211682,error:445.465859\n",
      "theta0 :0.034591,theta1 :0.211682,error:445.465859\n",
      "theta0 :0.034591,theta1 :0.211682,error:445.465859\n",
      "theta0 :0.034591,theta1 :0.211682,error:445.465859\n",
      "theta0 :0.034591,theta1 :0.211682,error:445.465859\n",
      "theta0 :0.034591,theta1 :0.211682,error:445.465859\n",
      "theta0 :0.034591,theta1 :0.211682,error:445.465859\n",
      "theta0 :0.034591,theta1 :0.211682,error:445.465859\n",
      "theta0 :0.034591,theta1 :0.211682,error:445.465859\n",
      "theta0 :0.034591,theta1 :0.211682,error:445.465859\n",
      "theta0 :0.034591,theta1 :0.211682,error:445.465859\n",
      "theta0 :0.034591,theta1 :0.211682,error:445.465859\n",
      "theta0 :0.034591,theta1 :0.211682,error:445.465859\n",
      "theta0 :0.034591,theta1 :0.211682,error:445.465859\n",
      "theta0 :0.034591,theta1 :0.211682,error:445.465859\n",
      "theta0 :0.034591,theta1 :0.211682,error:445.465859\n",
      "theta0 :0.034591,theta1 :0.211682,error:445.465859\n",
      "theta0 :0.034591,theta1 :0.211682,error:445.465859\n",
      "theta0 :0.034591,theta1 :0.211682,error:445.465859\n",
      "theta0 :0.034591,theta1 :0.211682,error:445.465859\n",
      "theta0 :0.034591,theta1 :0.211682,error:445.465859\n",
      "theta0 :0.034591,theta1 :0.211682,error:445.465859\n",
      "theta0 :0.034591,theta1 :0.211682,error:445.465859\n",
      "theta0 :0.034591,theta1 :0.211682,error:445.465859\n",
      "theta0 :0.034591,theta1 :0.211682,error:445.465859\n",
      "theta0 :0.034591,theta1 :0.211682,error:445.465859\n",
      "theta0 :0.034591,theta1 :0.211682,error:445.465859\n",
      "theta0 :0.034591,theta1 :0.211682,error:445.465859\n",
      "theta0 :0.034591,theta1 :0.211682,error:445.465859\n",
      "theta0 :0.034591,theta1 :0.211682,error:445.465859\n",
      "theta0 :0.034591,theta1 :0.211682,error:445.465859\n",
      "theta0 :0.034591,theta1 :0.211682,error:445.465859\n",
      "theta0 :0.034591,theta1 :0.211682,error:445.465859\n",
      "theta0 :0.034591,theta1 :0.211682,error:445.465859\n",
      "theta0 :0.034591,theta1 :0.211682,error:445.465859\n",
      "theta0 :0.034591,theta1 :0.211682,error:445.465859\n",
      "theta0 :0.034591,theta1 :0.211682,error:445.465859\n",
      "theta0 :0.034591,theta1 :0.211682,error:445.465859\n",
      "theta0 :0.034591,theta1 :0.211682,error:445.465859\n",
      "theta0 :0.034591,theta1 :0.211682,error:445.465859\n",
      "theta0 :0.034591,theta1 :0.211682,error:445.465859\n",
      "theta0 :0.034591,theta1 :0.211682,error:445.465859\n",
      "theta0 :0.034591,theta1 :0.211682,error:445.465859\n",
      "theta0 :0.034591,theta1 :0.211682,error:445.465859\n",
      "theta0 :0.034591,theta1 :0.211682,error:445.465859\n",
      "theta0 :0.034591,theta1 :0.211682,error:445.465859\n",
      "theta0 :0.034591,theta1 :0.211682,error:445.465859\n",
      "theta0 :0.034591,theta1 :0.211682,error:445.465859\n",
      "theta0 :0.034591,theta1 :0.211682,error:445.465859\n",
      "theta0 :0.034591,theta1 :0.211682,error:445.465859\n",
      "theta0 :0.034591,theta1 :0.211682,error:445.465859\n",
      "theta0 :0.034591,theta1 :0.211682,error:445.465859\n",
      "theta0 :0.034591,theta1 :0.211682,error:445.465859\n",
      "theta0 :0.034591,theta1 :0.211682,error:445.465859\n",
      "theta0 :0.034591,theta1 :0.211682,error:445.465859\n",
      "theta0 :0.034591,theta1 :0.211682,error:445.465859\n",
      "theta0 :0.034591,theta1 :0.211682,error:445.465859\n",
      "theta0 :0.034591,theta1 :0.211682,error:445.465859\n",
      "theta0 :0.034591,theta1 :0.211682,error:445.465859\n",
      "theta0 :0.034591,theta1 :0.211682,error:445.465859\n",
      "theta0 :0.034591,theta1 :0.211682,error:445.465859\n",
      "theta0 :0.034591,theta1 :0.211682,error:445.465859\n",
      "theta0 :0.034591,theta1 :0.211682,error:445.465859\n",
      "theta0 :0.034591,theta1 :0.211682,error:445.465859\n",
      "theta0 :0.034591,theta1 :0.211682,error:445.465859\n",
      "theta0 :0.034591,theta1 :0.211682,error:445.465859\n",
      "theta0 :0.034591,theta1 :0.211682,error:445.465859\n",
      "theta0 :0.034591,theta1 :0.211682,error:445.465859\n",
      "theta0 :0.034591,theta1 :0.211682,error:445.465859\n",
      "theta0 :0.034591,theta1 :0.211682,error:445.465859\n",
      "theta0 :0.034591,theta1 :0.211682,error:445.465859\n",
      "theta0 :0.034591,theta1 :0.211682,error:445.465859\n",
      "theta0 :0.034591,theta1 :0.211682,error:445.465859\n",
      "theta0 :0.034591,theta1 :0.211682,error:445.465859\n",
      "theta0 :0.034591,theta1 :0.211682,error:445.465859\n",
      "theta0 :0.034591,theta1 :0.211682,error:445.465859\n",
      "theta0 :0.034591,theta1 :0.211682,error:445.465859\n",
      "theta0 :0.034591,theta1 :0.211682,error:445.465859\n",
      "theta0 :0.034591,theta1 :0.211682,error:445.465859\n",
      "theta0 :0.034591,theta1 :0.211682,error:445.465859\n",
      "theta0 :0.034591,theta1 :0.211682,error:445.465859\n",
      "theta0 :0.034591,theta1 :0.211682,error:445.465859\n",
      "theta0 :0.034591,theta1 :0.211682,error:445.465859\n",
      "theta0 :0.034591,theta1 :0.211682,error:445.465859\n",
      "theta0 :0.034591,theta1 :0.211682,error:445.465859\n",
      "theta0 :0.034591,theta1 :0.211682,error:445.465859\n",
      "theta0 :0.034591,theta1 :0.211682,error:445.465859\n",
      "theta0 :0.034591,theta1 :0.211682,error:445.465859\n",
      "theta0 :0.034591,theta1 :0.211682,error:445.465859\n",
      "cnt>200\n",
      "theta0 :0.034591,theta1 :0.211682,error:445.465859\n"
     ]
    }
   ],
   "source": [
    "gd_stochastic(x,y,200)"
   ]
  },
  {
   "cell_type": "code",
   "execution_count": 7,
   "metadata": {
    "collapsed": false
   },
   "outputs": [
    {
     "name": "stdout",
     "output_type": "stream",
     "text": [
      "C:\\Users\\诚明\\Desktop\\MachineLearning\\machine-learning-ex1\\ex1\n"
     ]
    }
   ],
   "source": [
    "cd C:\\Users\\诚明\\Desktop\\MachineLearning\\machine-learning-ex1\\ex1"
   ]
  },
  {
   "cell_type": "markdown",
   "metadata": {},
   "source": [
    "# Multi-Linear Regression"
   ]
  },
  {
   "cell_type": "code",
   "execution_count": 58,
   "metadata": {
    "collapsed": true
   },
   "outputs": [],
   "source": [
    "cols=np.loadtxt('ex1data1.txt',delimiter=',',unpack=True,usecols=(0,1))"
   ]
  },
  {
   "cell_type": "code",
   "execution_count": 59,
   "metadata": {
    "collapsed": false
   },
   "outputs": [
    {
     "data": {
      "text/plain": [
       "(2, 97)"
      ]
     },
     "execution_count": 59,
     "metadata": {},
     "output_type": "execute_result"
    }
   ],
   "source": [
    "cols.shape"
   ]
  },
  {
   "cell_type": "code",
   "execution_count": 60,
   "metadata": {
    "collapsed": false
   },
   "outputs": [],
   "source": [
    "X=np.transpose(cols[:-1])"
   ]
  },
  {
   "cell_type": "code",
   "execution_count": 61,
   "metadata": {
    "collapsed": false
   },
   "outputs": [],
   "source": [
    "y = np.transpose(np.array(cols[-1:]))"
   ]
  },
  {
   "cell_type": "code",
   "execution_count": 62,
   "metadata": {
    "collapsed": false
   },
   "outputs": [],
   "source": [
    "m=y.size"
   ]
  },
  {
   "cell_type": "code",
   "execution_count": 63,
   "metadata": {
    "collapsed": true
   },
   "outputs": [],
   "source": [
    "X=np.insert(X,0,1,axis=1)"
   ]
  },
  {
   "cell_type": "code",
   "execution_count": 272,
   "metadata": {
    "collapsed": false
   },
   "outputs": [
    {
     "data": {
      "text/plain": [
       "<matplotlib.text.Text at 0x28e4f759128>"
      ]
     },
     "execution_count": 272,
     "metadata": {},
     "output_type": "execute_result"
    },
    {
     "data": {
      "image/png": "[encoded data removed]",
      "text/plain": [
       "<matplotlib.figure.Figure at 0x28e4f734160>"
      ]
     },
     "metadata": {},
     "output_type": "display_data"
    }
   ],
   "source": [
    "plt.figure(figsize=(10,6))\n",
    "plt.plot(X[:,1],y[:,0],\"rx\",markersize=10)\n",
    "plt.grid(True,alpha=0.3,linestyle='-.',linewidth=2)\n",
    "plt.ylabel('Profit in $10,000s')\n",
    "plt.xlabel('Population of City in 10,000s')"
   ]
  },
  {
   "cell_type": "code",
   "execution_count": 19,
   "metadata": {
    "collapsed": true
   },
   "outputs": [],
   "source": [
    "iterations = 1500\n",
    "alpha = 0.01"
   ]
  },
  {
   "cell_type": "code",
   "execution_count": 20,
   "metadata": {
    "collapsed": true
   },
   "outputs": [],
   "source": [
    "def h(theta,X):                    # hypothesis function\n",
    "    return np.dot(X,theta)"
   ]
  },
  {
   "cell_type": "code",
   "execution_count": 21,
   "metadata": {
    "collapsed": true
   },
   "outputs": [],
   "source": [
    "def computeCost(mytheta,X,y):\n",
    "    return float(1/(2*m)*np.dot((h(mytheta,X)-y).T,(h(mytheta,X)-y)))"
   ]
  },
  {
   "cell_type": "code",
   "execution_count": 22,
   "metadata": {
    "collapsed": true
   },
   "outputs": [],
   "source": [
    "initial_theta = np.zeros((X.shape[1],1))"
   ]
  },
  {
   "cell_type": "code",
   "execution_count": 23,
   "metadata": {
    "collapsed": false
   },
   "outputs": [
    {
     "data": {
      "text/plain": [
       "0.5"
      ]
     },
     "execution_count": 23,
     "metadata": {},
     "output_type": "execute_result"
    }
   ],
   "source": [
    "computeCost(initial_theta,X,y)"
   ]
  },
  {
   "cell_type": "code",
   "execution_count": 24,
   "metadata": {
    "collapsed": true
   },
   "outputs": [],
   "source": [
    "def descendGradient(X, theta_start = np.zeros(2)):\n",
    "    theta=theta_start\n",
    "    jvec=[]\n",
    "    for _ in range(iterations):\n",
    "        delta=1/m*X.T.dot(h(theta,X)-y)\n",
    "        theta=theta-alpha*delta\n",
    "        jvec.append(computeCost(theta,X,y))\n",
    "    return theta,jvec"
   ]
  },
  {
   "cell_type": "code",
   "execution_count": 25,
   "metadata": {
    "collapsed": false
   },
   "outputs": [],
   "source": [
    "theta,jvec=descendGradient(X,initial_theta)"
   ]
  },
  {
   "cell_type": "code",
   "execution_count": 26,
   "metadata": {
    "collapsed": false
   },
   "outputs": [
    {
     "data": {
      "text/plain": [
       "<matplotlib.text.Text at 0x1f8270753c8>"
      ]
     },
     "execution_count": 26,
     "metadata": {},
     "output_type": "execute_result"
    },
    {
     "data": {
      "image/png": "[encoded data removed]",
      "text/plain": [
       "<matplotlib.figure.Figure at 0x1f82700a320>"
      ]
     },
     "metadata": {},
     "output_type": "display_data"
    }
   ],
   "source": [
    "plt.figure(figsize=(10,6))\n",
    "plt.plot(list(range(len(jvec))),jvec,'bo',color='r')\n",
    "plt.grid(True,alpha=0.3,linestyle='-.',linewidth=2)\n",
    "plt.title('Convergence of Cost Function',fontsize=18)\n",
    "plt.xlabel('Iterations',fontsize=14)\n",
    "plt.ylabel('Cost',fontsize=14)"
   ]
  },
  {
   "cell_type": "code",
   "execution_count": 334,
   "metadata": {
    "collapsed": false
   },
   "outputs": [
    {
     "data": {
      "text/plain": [
       "<matplotlib.legend.Legend at 0x28e51017c88>"
      ]
     },
     "execution_count": 334,
     "metadata": {},
     "output_type": "execute_result"
    },
    {
     "data": {
      "image/png": "[encoded data removed]",
      "text/plain": [
       "<matplotlib.figure.Figure at 0x28e50fad2e8>"
      ]
     },
     "metadata": {},
     "output_type": "display_data"
    }
   ],
   "source": [
    "plt.figure(figsize=(10,6))\n",
    "plt.plot(X[:,1],y[:,0],\"rx\",markersize=10,label=\"training data\")\n",
    "plt.plot(X[:,1],X.dot(theta),label='fitting line')\n",
    "plt.grid(True,alpha=0.3,linestyle='-.',linewidth=2)\n",
    "plt.ylabel('Profit in $10,000s')\n",
    "plt.xlabel('Population of City in 10,000s')\n",
    "plt.legend()"
   ]
  },
  {
   "cell_type": "code",
   "execution_count": 72,
   "metadata": {
    "collapsed": false
   },
   "outputs": [],
   "source": [
    "cols1=np.loadtxt('ex1data2.txt',delimiter=',',usecols=(0,1,2),unpack=True)"
   ]
  },
  {
   "cell_type": "code",
   "execution_count": 73,
   "metadata": {
    "collapsed": false
   },
   "outputs": [
    {
     "data": {
      "text/plain": [
       "(3, 47)"
      ]
     },
     "execution_count": 73,
     "metadata": {},
     "output_type": "execute_result"
    }
   ],
   "source": [
    "cols1.shape"
   ]
  },
  {
   "cell_type": "code",
   "execution_count": 74,
   "metadata": {
    "collapsed": false
   },
   "outputs": [],
   "source": [
    "X=np.transpose(cols1[:-1])\n",
    "y=np.transpose(cols1[-1:])\n",
    "m=y.size"
   ]
  },
  {
   "cell_type": "code",
   "execution_count": 75,
   "metadata": {
    "collapsed": false
   },
   "outputs": [],
   "source": [
    "X=np.insert(X,0,1,axis=1)"
   ]
  },
  {
   "cell_type": "code",
   "execution_count": 77,
   "metadata": {
    "collapsed": false
   },
   "outputs": [
    {
     "data": {
      "text/plain": [
       "(47, 3)"
      ]
     },
     "execution_count": 77,
     "metadata": {},
     "output_type": "execute_result"
    }
   ],
   "source": [
    "X.shape"
   ]
  },
  {
   "cell_type": "code",
   "execution_count": 31,
   "metadata": {
    "collapsed": false
   },
   "outputs": [],
   "source": [
    "meanvalue=np.mean(X,axis=0)[1:]\n",
    "stdvalue=np.std(X,axis=0)[1:]"
   ]
  },
  {
   "cell_type": "code",
   "execution_count": 32,
   "metadata": {
    "collapsed": false
   },
   "outputs": [],
   "source": [
    "X[:,1:]=(X[:,1:]-meanvalue)/stdvalue"
   ]
  },
  {
   "cell_type": "code",
   "execution_count": 14,
   "metadata": {
    "collapsed": false
   },
   "outputs": [],
   "source": [
    "y=(y-np.mean(y))/np.std(y)"
   ]
  },
  {
   "cell_type": "code",
   "execution_count": 33,
   "metadata": {
    "collapsed": false
   },
   "outputs": [],
   "source": [
    "initial_theta = np.zeros((X.shape[1],1))\n",
    "theta, jvec = descendGradient(X,initial_theta)"
   ]
  },
  {
   "cell_type": "code",
   "execution_count": 34,
   "metadata": {
    "collapsed": false
   },
   "outputs": [
    {
     "data": {
      "text/plain": [
       "<matplotlib.text.Text at 0x1f82714cf98>"
      ]
     },
     "execution_count": 34,
     "metadata": {},
     "output_type": "execute_result"
    },
    {
     "data": {
      "image/png": "[encoded data removed]",
      "text/plain": [
       "<matplotlib.figure.Figure at 0x1f827391940>"
      ]
     },
     "metadata": {},
     "output_type": "display_data"
    }
   ],
   "source": [
    "plt.figure(figsize=(10,6))\n",
    "plt.plot(list(range(len(jvec))),jvec,'bo',color='r')\n",
    "plt.grid(True,alpha=0.3,linestyle='-.',linewidth=2)\n",
    "plt.title('Convergence of Cost Function',fontsize=18)\n",
    "plt.xlabel('Iterations',fontsize=14)\n",
    "plt.ylabel('Cost',fontsize=14)"
   ]
  },
  {
   "cell_type": "code",
   "execution_count": 38,
   "metadata": {
    "collapsed": false
   },
   "outputs": [],
   "source": [
    "test=np.array([1650,3])\n",
    "test1=(test-meanvalue)/stdvalue"
   ]
  },
  {
   "cell_type": "code",
   "execution_count": 41,
   "metadata": {
    "collapsed": false
   },
   "outputs": [],
   "source": [
    "test1=np.insert(test1,0,1)"
   ]
  },
  {
   "cell_type": "code",
   "execution_count": 43,
   "metadata": {
    "collapsed": false
   },
   "outputs": [
    {
     "data": {
      "text/plain": [
       "array([ 293098.46667577])"
      ]
     },
     "execution_count": 43,
     "metadata": {},
     "output_type": "execute_result"
    }
   ],
   "source": [
    "np.dot(test1,theta)"
   ]
  },
  {
   "cell_type": "code",
   "execution_count": 78,
   "metadata": {
    "collapsed": false
   },
   "outputs": [],
   "source": [
    "def preprocess(url):\n",
    "    cols=np.loadtxt(url,delimiter=',',unpack=True)\n",
    "    X=np.transpose(cols[:-1])\n",
    "    X=np.insert(X,0,1,axis=1)\n",
    "    if X.shape[1]>2:\n",
    "        meanvalue=np.mean(X,axis=0)[1:]\n",
    "        stdvalue=np.std(X,axis=0)[1:]\n",
    "        X[:,1:]=(X[:,1:]-meanvalue)/stdvalue\n",
    "    y=np.transpose(cols[-1:])\n",
    "    theta=np.zeros((X.shape[1],1))\n",
    "    m=y.size\n",
    "    return X,y,theta,m\n",
    "\n",
    "def Jfunc(url,theta):\n",
    "    X,y,_,m=preprocess(url)\n",
    "    return float(1/(2*m)*np.dot((X.dot(theta)-y).T,(X.dot(theta)-y)))\n",
    "                 \n",
    "def costfunc(jvec):\n",
    "    plt.figure(figsize=(10,6))\n",
    "    plt.plot(list(range(len(jvec))),jvec,'bo',color='r')\n",
    "    plt.grid(True,alpha=0.3,linestyle='-.',linewidth=2)\n",
    "    plt.title('Convergence of Cost Function',fontsize=18)\n",
    "    plt.xlabel('Iterations',fontsize=14)\n",
    "    plt.ylabel('Cost',fontsize=14)\n",
    "\n",
    "def gradientdescent(url,iterations,alpha=0.01):\n",
    "    X,y,theta,m=preprocess(url)\n",
    "    jvec=[]\n",
    "    for _ in range(iterations):\n",
    "        delta=1/m*X.T.dot((np.dot(X,theta)-y))\n",
    "        theta=theta-alpha*delta\n",
    "        jvec.append(Jfunc(url,theta))\n",
    "    costfunc(jvec)\n",
    "    return theta"
   ]
  },
  {
   "cell_type": "code",
   "execution_count": 80,
   "metadata": {
    "collapsed": false
   },
   "outputs": [
    {
     "data": {
      "text/plain": [
       "array([[ 340412.56301439],\n",
       "       [ 109370.05670466],\n",
       "       [  -6500.61509507]])"
      ]
     },
     "execution_count": 80,
     "metadata": {},
     "output_type": "execute_result"
    },
    {
     "data": {
      "image/png": "[encoded data removed]",
      "text/plain": [
       "<matplotlib.figure.Figure at 0x1f826dd3390>"
      ]
     },
     "metadata": {},
     "output_type": "display_data"
    }
   ],
   "source": [
    "gradientdescent('ex1data2.txt',1500)"
   ]
  },
  {
   "cell_type": "code",
   "execution_count": 64,
   "metadata": {
    "collapsed": true
   },
   "outputs": [],
   "source": [
    "def Jfunc(url):\n",
    "    X,y,theta,m=preprocess(url)\n",
    "    return float(1/(2*m)*np.dot((X.dot(theta)-y).T,(X.dot(theta)-y)))"
   ]
  },
  {
   "cell_type": "code",
   "execution_count": 65,
   "metadata": {
    "collapsed": false
   },
   "outputs": [
    {
     "data": {
      "text/plain": [
       "32.072733877455676"
      ]
     },
     "execution_count": 65,
     "metadata": {},
     "output_type": "execute_result"
    }
   ],
   "source": [
    "Jfunc('ex1data1.txt')"
   ]
  },
  {
   "cell_type": "code",
   "execution_count": 67,
   "metadata": {
    "collapsed": false
   },
   "outputs": [
    {
     "data": {
      "text/plain": [
       "32.072733877455676"
      ]
     },
     "execution_count": 67,
     "metadata": {},
     "output_type": "execute_result"
    }
   ],
   "source": [
    "theta=np.array([[0],[0]])\n",
    "computeCost(theta,X,y)"
   ]
  },
  {
   "cell_type": "code",
   "execution_count": null,
   "metadata": {
    "collapsed": true
   },
   "outputs": [],
   "source": []
  }
 ],
 "metadata": {
  "kernelspec": {
   "display_name": "Python 3",
   "language": "python",
   "name": "python3"
  },
  "language_info": {
   "codemirror_mode": {
    "name": "ipython",
    "version": 3
   },
   "file_extension": ".py",
   "mimetype": "text/x-python",
   "name": "python",
   "nbconvert_exporter": "python",
   "pygments_lexer": "ipython3",
   "version": "3.6.0"
  }
 },
 "nbformat": 4,
 "nbformat_minor": 2
}
