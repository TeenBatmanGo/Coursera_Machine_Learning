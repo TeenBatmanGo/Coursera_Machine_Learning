{
 "cells": [
  {
   "cell_type": "code",
   "execution_count": 1,
   "metadata": {
    "collapsed": true
   },
   "outputs": [],
   "source": [
    "%matplotlib inline\n",
    "import os\n",
    "import numpy as np\n",
    "import pandas as pd\n",
    "import matplotlib.pyplot as plt\n",
    "import scipy.io \n",
    "from sklearn import svm \n",
    "import re \n",
    "from stemming.porter2 import stem\n",
    "import nltk, nltk.stem.porter\n",
    "from collections import Counter"
   ]
  },
  {
   "cell_type": "code",
   "execution_count": 47,
   "metadata": {
    "collapsed": false
   },
   "outputs": [
    {
     "name": "stdout",
     "output_type": "stream",
     "text": [
      "C:\\Users\\诚明\\Desktop\\MachineLearning\\spam_classify\n"
     ]
    }
   ],
   "source": [
    "cd C:\\Users\\诚明\\Desktop\\MachineLearning\\spam_classify\\"
   ]
  },
  {
   "cell_type": "markdown",
   "metadata": {},
   "source": [
    "# 1. Read in spam and non-spam emails"
   ]
  },
  {
   "cell_type": "code",
   "execution_count": 60,
   "metadata": {
    "collapsed": false
   },
   "outputs": [],
   "source": [
    "# read in the non-spam emails into a long list\n",
    "current_dir = os.getcwd()\n",
    "nonspam_emails = []\n",
    "for file in os.listdir(current_dir + '\\\\easy_ham\\\\'):\n",
    "    temp = open(current_dir + '\\\\easy_ham\\\\' + file, 'rb').read()\n",
    "    nonspam_emails.append(temp)\n",
    "\n",
    "# read in spam emails into a long list\n",
    "spam_emails = []\n",
    "for file in os.listdir(current_dir + '\\\\spam\\\\'):\n",
    "    temp = open(current_dir + '\\\\spam\\\\' + file, 'rb').read()\n",
    "    spam_emails.append(temp)"
   ]
  },
  {
   "cell_type": "markdown",
   "metadata": {},
   "source": [
    "## 1.1. Encoding"
   ]
  },
  {
   "cell_type": "code",
   "execution_count": 61,
   "metadata": {
    "collapsed": false
   },
   "outputs": [],
   "source": [
    "# Note that the encoding is bytes. So we need to transform it into latin-1\n",
    "for i in range(len(nonspam_emails)):\n",
    "    try:\n",
    "        nonspam_emails[i] = str(nonspam_emails[i], encoding = 'utf-8')\n",
    "    except:\n",
    "        nonspam_emails[i] = str(nonspam_emails[i], encoding = 'latin-1')"
   ]
  },
  {
   "cell_type": "code",
   "execution_count": 62,
   "metadata": {
    "collapsed": true
   },
   "outputs": [],
   "source": [
    "for i in range(len(spam_emails)):\n",
    "    try:\n",
    "        spam_emails[i] = str(spam_emails[i], encoding = 'utf-8')\n",
    "    except:\n",
    "        spam_emails[i] = str(spam_emails[i], encoding = 'latin-1')"
   ]
  },
  {
   "cell_type": "code",
   "execution_count": 5,
   "metadata": {
    "collapsed": false
   },
   "outputs": [
    {
     "name": "stdout",
     "output_type": "stream",
     "text": [
      "From Steve_Burt@cursor-system.com  Thu Aug 22 12:46:39 2002\n",
      "Return-Path: <Steve_Burt@cursor-system.com>\n",
      "Delivered-To: zzzz@localhost.netnoteinc.com\n",
      "Received: from localhost (localhost [127.0.0.1])\n",
      "\tby phobos.labs.netnoteinc.com (Postfix) with ESMTP id BE12E43C34\n",
      "\tfor <zzzz@localhost>; Thu, 22 Aug 2002 07:46:38 -0400 (EDT)\n",
      "Received: from phobos [127.0.0.1]\n",
      "\tby localhost with IMAP (fetchmail-5.9.0)\n",
      "\tfor zzzz@localhost (single-drop); Thu, 22 Aug 2002 12:46:38 +0100 (IST)\n",
      "Received: from n20.grp.scd.yahoo.com (n20.grp.scd.yahoo.com\n",
      "    [66.218.66.76]) by dogma.slashnull.org (8.11.6/8.11.6) with SMTP id\n",
      "    g7MBkTZ05087 for <zzzz@spamassassin.taint.org>; Thu, 22 Aug 2002 12:46:29 +0100\n",
      "X-Egroups-Return: sentto-2242572-52726-1030016790-zzzz=spamassassin.taint.org@returns.groups.yahoo.com\n",
      "Received: from [66.218.67.196] by n20.grp.scd.yahoo.com with NNFMP;\n",
      "    22 Aug 2002 11:46:30 -0000\n",
      "X-Sender: steve.burt@cursor-system.com\n",
      "X-Apparently-To: zzzzteana@yahoogroups.com\n",
      "Received: (EGP: mail-8_1_0_1); 22 Aug 2002 11:46:29 -0000\n",
      "Received: (qmail 11764 invoked from network); 22 Aug 2002 11:46:29 -0000\n",
      "Received: from unknown (66.218.66.217) by m3.grp.scd.yahoo.com with QMQP;\n",
      "    22 Aug 2002 11:46:29 -0000\n",
      "Received: from unknown (HELO mailgateway.cursor-system.com) (62.189.7.27)\n",
      "    by mta2.grp.scd.yahoo.com with SMTP; 22 Aug 2002 11:46:29 -0000\n",
      "Received: from exchange1.cps.local (unverified) by\n",
      "    mailgateway.cursor-system.com (Content Technologies SMTPRS 4.2.10) with\n",
      "    ESMTP id <T5cde81f695ac1d100407d@mailgateway.cursor-system.com> for\n",
      "    <forteana@yahoogroups.com>; Thu, 22 Aug 2002 13:14:10 +0100\n",
      "Received: by exchange1.cps.local with Internet Mail Service (5.5.2653.19)\n",
      "    id <PXX6AT23>; Thu, 22 Aug 2002 12:46:27 +0100\n",
      "Message-Id: <5EC2AD6D2314D14FB64BDA287D25D9EF12B4F6@exchange1.cps.local>\n",
      "To: \"'zzzzteana@yahoogroups.com'\" <zzzzteana@yahoogroups.com>\n",
      "X-Mailer: Internet Mail Service (5.5.2653.19)\n",
      "X-Egroups-From: Steve Burt <steve.burt@cursor-system.com>\n",
      "From: Steve Burt <Steve_Burt@cursor-system.com>\n",
      "X-Yahoo-Profile: pyruse\n",
      "MIME-Version: 1.0\n",
      "Mailing-List: list zzzzteana@yahoogroups.com; contact\n",
      "    forteana-owner@yahoogroups.com\n",
      "Delivered-To: mailing list zzzzteana@yahoogroups.com\n",
      "Precedence: bulk\n",
      "List-Unsubscribe: <mailto:zzzzteana-unsubscribe@yahoogroups.com>\n",
      "Date: Thu, 22 Aug 2002 12:46:18 +0100\n",
      "Subject: [zzzzteana] RE: Alexander\n",
      "Reply-To: zzzzteana@yahoogroups.com\n",
      "Content-Type: text/plain; charset=US-ASCII\n",
      "Content-Transfer-Encoding: 7bit\n",
      "\n",
      "Martin A posted:\n",
      "Tassos Papadopoulos, the Greek sculptor behind the plan, judged that the\n",
      " limestone of Mount Kerdylio, 70 miles east of Salonika and not far from the\n",
      " Mount Athos monastic community, was ideal for the patriotic sculpture. \n",
      " \n",
      " As well as Alexander's granite features, 240 ft high and 170 ft wide, a\n",
      " museum, a restored amphitheatre and car park for admiring crowds are\n",
      "planned\n",
      "---------------------\n",
      "So is this mountain limestone or granite?\n",
      "If it's limestone, it'll weather pretty fast.\n",
      "\n",
      "------------------------ Yahoo! Groups Sponsor ---------------------~-->\n",
      "4 DVDs Free +s&p Join Now\n",
      "http://us.click.yahoo.com/pt6YBB/NXiEAA/mG3HAA/7gSolB/TM\n",
      "---------------------------------------------------------------------~->\n",
      "\n",
      "To unsubscribe from this group, send an email to:\n",
      "forteana-unsubscribe@egroups.com\n",
      "\n",
      " \n",
      "\n",
      "Your use of Yahoo! Groups is subject to http://docs.yahoo.com/info/terms/ \n",
      "\n",
      "\n",
      "\n",
      "\n"
     ]
    }
   ],
   "source": [
    "print(nonspam_emails[1])"
   ]
  },
  {
   "cell_type": "markdown",
   "metadata": {},
   "source": [
    "## 1.2. Remove the header"
   ]
  },
  {
   "cell_type": "code",
   "execution_count": 63,
   "metadata": {
    "collapsed": false
   },
   "outputs": [
    {
     "name": "stdout",
     "output_type": "stream",
     "text": [
      "No.2501 nonspam email does not have a double new line!\n",
      "mv 00001.7c53336b37003a9286aba55d2945844c 00001.7c53336b37003a9286aba55d2945844c\n",
      "mv 00002.9c4069e25e1ef370c078db7ee85ff9ac 00002.9c4069e25e1ef370c078db7ee85ff9ac\n",
      "mv 00003.860e3c3cee1b42ead714c5c874fe25f7 00003.860e3c3cee1b42ead714c5c874fe25f7\n",
      "mv 00004.864220c5b6930b209cc287c361c99af1 00004.864220c5b6930b209cc287c361c99af1\n",
      "mv 00005.bf27cdeaf0b8c4647ecd61b1d09da613 00005.bf27cdeaf0b8c4647ecd61b1d09da613\n",
      "mv 00006.253ea2f9a9cc36fa0b1129b04b806608 00006.253ea2f9a9cc36fa0b1129b04b806608\n",
      "mv 00007.37a8a\n",
      "\n",
      "No.501 spam email does not have a double new line!\n",
      "mv 00001.7848dde101aa985090474a91ec93fcf0 00001.7848dde101aa985090474a91ec93fcf0\n",
      "mv 00002.d94f1b97e48ed3b553b3508d116e6a09 00002.d94f1b97e48ed3b553b3508d116e6a09\n",
      "mv 00003.2ee33bc6eacdb11f38d052c44819ba6c 00003.2ee33bc6eacdb11f38d052c44819ba6c\n",
      "mv 00004.eac8de8d759b7e74154f142194282724 00004.eac8de8d759b7e74154f142194282724\n",
      "mv 00005.57696a39d7d84318ce497886896bf90d 00005.57696a39d7d84318ce497886896bf90d\n",
      "mv 00006.5ab5620d3d7c6c0db76234556a16f6c1 00006.5ab5620d3d7c6c0db76234556a16f6c1\n",
      "mv 00007.d8521\n"
     ]
    }
   ],
   "source": [
    "# It seems that there will be a double new line in the header of every email. Check whether this is right.\n",
    "count = 0\n",
    "for nonspam in nonspam_emails:\n",
    "    count += 1\n",
    "    if '\\n\\n' not in nonspam:\n",
    "        print('No.%s nonspam email does not have a double new line!' % count)\n",
    "        print(nonspam[:500])\n",
    "\n",
    "count = 0\n",
    "for spam in spam_emails:\n",
    "    count += 1\n",
    "    if '\\n\\n' not in spam:\n",
    "        print('\\nNo.%s spam email does not have a double new line!' % count)\n",
    "        print(spam[:500])"
   ]
  },
  {
   "cell_type": "code",
   "execution_count": 64,
   "metadata": {
    "collapsed": false
   },
   "outputs": [],
   "source": [
    "# This seems to be the case that the last file of spam and nonspam email is not an email at all. So we remove them.\n",
    "nonspam_emails = nonspam_emails[:-1]\n",
    "spam_emails = spam_emails[:-1]"
   ]
  },
  {
   "cell_type": "code",
   "execution_count": 65,
   "metadata": {
    "collapsed": false
   },
   "outputs": [],
   "source": [
    "# Now we can erase the header.\n",
    "nonspam_emails = [nonspam.split(sep = '\\n\\n',maxsplit = 1)[1] for nonspam in nonspam_emails]\n",
    "spam_emails = [spam.split(sep = '\\n\\n',maxsplit = 1)[1] for spam in spam_emails]"
   ]
  },
  {
   "cell_type": "markdown",
   "metadata": {},
   "source": [
    "# 2. Preprocess the e-mails to turn them into a format an SVM can understand"
   ]
  },
  {
   "cell_type": "code",
   "execution_count": 66,
   "metadata": {
    "collapsed": true
   },
   "outputs": [],
   "source": [
    "def preProcess(email):\n",
    "    email = email.lower()\n",
    "    email = re.sub('\\d+','number',email)        # Replace all numbers with a single string \"number\" to treat all numbers equally.\n",
    "    email = re.sub('(http|https)://[\\S]*','httpaddr',email)\n",
    "    email = re.sub('<[^<>]*>',' ',email)        # Remove html tags like <blah>\n",
    "    email = re.sub('[$]+','dollar',email)\n",
    "    email = re.sub('\\S+@\\S+','emailaddr',email)\n",
    "    return email"
   ]
  },
  {
   "cell_type": "markdown",
   "metadata": {},
   "source": [
    "## 2.1. Tokenization"
   ]
  },
  {
   "cell_type": "code",
   "execution_count": 67,
   "metadata": {
    "collapsed": false
   },
   "outputs": [],
   "source": [
    "# Break each email up into 'words' which can be defined as strings separated by a space, or separated by some other delimiters that I use.\n",
    "# Each token (or word) is then stemmed, which means I attempt to shorten each word to its root.\n",
    "\n",
    "def email2tokenlist(raw_email):\n",
    "    email = preProcess(raw_email)\n",
    "    stemmer = nltk.stem.porter.PorterStemmer()\n",
    "    tokens = re.split('\\W',email)\n",
    "    tokenlist = []\n",
    "    for token in tokens:\n",
    "        token = re.sub('[^a-zA-Z0-9]','',token)\n",
    "        try:\n",
    "            stemmed = stemmer.stem(token)\n",
    "        except:\n",
    "            continue\n",
    "        if not len(token):\n",
    "            continue\n",
    "        tokenlist.append(token)\n",
    "    return tokenlist"
   ]
  },
  {
   "cell_type": "markdown",
   "metadata": {},
   "source": [
    "## 2.2. Create a vocabulary dictionary"
   ]
  },
  {
   "cell_type": "code",
   "execution_count": 68,
   "metadata": {
    "collapsed": false
   },
   "outputs": [],
   "source": [
    "# Find 1000 most common words for both spam and non-spam emails \n",
    "full_nonspam = [' '.join(nonspam_emails[:])]\n",
    "full_spam = [' '.join(spam_emails[:])]\n",
    "full_emails = full_nonspam[0] + full_spam[0]"
   ]
  },
  {
   "cell_type": "code",
   "execution_count": 69,
   "metadata": {
    "collapsed": false
   },
   "outputs": [],
   "source": [
    "counts = Counter(email2tokenlist(full_emails))\n",
    "Common_words = counts.most_common(1000)"
   ]
  },
  {
   "cell_type": "code",
   "execution_count": 70,
   "metadata": {
    "collapsed": false
   },
   "outputs": [],
   "source": [
    "vocab_dict = dict(zip([word[0] for word in Common_words], list(range(len(Common_words)))))"
   ]
  },
  {
   "cell_type": "markdown",
   "metadata": {},
   "source": [
    "## 2.3. Create features"
   ]
  },
  {
   "cell_type": "code",
   "execution_count": 71,
   "metadata": {
    "collapsed": true
   },
   "outputs": [],
   "source": [
    "def email2Vocabind(raw_email, vocab_dict):\n",
    "    tokenlist = email2tokenlist(raw_email)\n",
    "    vocab_ind = [vocab_dict[token] for token in tokenlist if token in vocab_dict]\n",
    "    return vocab_ind"
   ]
  },
  {
   "cell_type": "code",
   "execution_count": 72,
   "metadata": {
    "collapsed": false
   },
   "outputs": [],
   "source": [
    "def email2featurevec(raw_email, vocab_dict):\n",
    "    vocab_ind = email2Vocabind(raw_email, vocab_dict)\n",
    "    feature = np.zeros((len(vocab_dict), 1))\n",
    "    feature[vocab_ind] = 1\n",
    "    return feature"
   ]
  },
  {
   "cell_type": "markdown",
   "metadata": {},
   "source": [
    "# 3. Trarning SVM for spam classification"
   ]
  },
  {
   "cell_type": "markdown",
   "metadata": {},
   "source": [
    "## 3.1. Build training set, validation set and test set"
   ]
  },
  {
   "cell_type": "code",
   "execution_count": 74,
   "metadata": {
    "collapsed": false
   },
   "outputs": [],
   "source": [
    "n_spam = len(spam_emails)\n",
    "n_nonspam = len(nonspam_emails)\n",
    "\n",
    "spam_train = [email2featurevec(email, vocab_dict) for email in spam_emails[:int(n_spam*0.6)]]\n",
    "nonspam_train = [email2featurevec(email, vocab_dict) for email in nonspam_emails[:int(n_nonspam*0.6)]]\n",
    "X_train = np.concatenate((spam_train, nonspam_train))[:,:,0]\n",
    "y_train = np.concatenate((np.ones((int(n_spam*0.6), 1)), np.zeros((int(n_nonspam*0.6), 1))))\n",
    "\n",
    "spam_cv = [email2featurevec(email, vocab_dict) for email in spam_emails[int(n_spam*0.6):int(n_spam*0.8)]]\n",
    "nonspam_cv = [email2featurevec(email, vocab_dict) for email in nonspam_emails[int(n_nonspam*0.6):int(n_nonspam*0.8)]]\n",
    "X_cv = np.concatenate((spam_cv, nonspam_cv))[:,:,0]\n",
    "y_cv = np.concatenate((np.ones((int(n_spam*0.8) - int(n_spam*0.6), 1)), np.zeros((int(n_nonspam*0.8) - int(n_nonspam*0.6), 1))))\n",
    "\n",
    "spam_test = [email2featurevec(email, vocab_dict) for email in spam_emails[int(n_spam*0.8):]]\n",
    "nonspam_test = [email2featurevec(email, vocab_dict) for email in nonspam_emails[int(n_nonspam*0.8):]]\n",
    "X_test = np.concatenate((spam_test, nonspam_test))[:,:,0]\n",
    "y_test = np.concatenate((np.ones((n_spam - int(n_spam*0.8), 1)), np.zeros((n_nonspam - int(n_nonspam*0.8), 1))))"
   ]
  },
  {
   "cell_type": "markdown",
   "metadata": {},
   "source": [
    "## 3.2. Choose a C value based on validation set performance"
   ]
  },
  {
   "cell_type": "code",
   "execution_count": 75,
   "metadata": {
    "collapsed": false
   },
   "outputs": [
    {
     "name": "stdout",
     "output_type": "stream",
     "text": [
      "C = 0.0001   Training set error is 0.8333   CV set error is 0.8333\n",
      "C = 0.001   Training set error is 0.9039   CV set error is 0.9067\n",
      "C = 0.01   Training set error is 0.9917   CV set error is 0.9683\n",
      "C = 0.1   Training set error is 0.9994   CV set error is 0.9767\n",
      "C = 1.0   Training set error is 0.9994   CV set error is 0.9683\n",
      "C = 10.0   Training set error is 1.0000   CV set error is 0.9500\n"
     ]
    }
   ],
   "source": [
    "C_range = [0.0001, 0.001, 0.01, 0.1, 1.0, 10.0]\n",
    "train_score, cv_score = [], []\n",
    "for i in range(len(C_range)):\n",
    "    fit = svm.SVC(C=C_range[i], kernel = 'linear').fit(X_train, y_train.flatten())\n",
    "    train_score.append(fit.score(X_train, y_train.flatten()))\n",
    "    cv_score.append(fit.score(X_cv, y_cv.flatten()))\n",
    "    print('C = %s   Training set error is %.4f   CV set error is %.4f' % (C_range[i], train_score[i], cv_score[i]))"
   ]
  },
  {
   "cell_type": "code",
   "execution_count": 76,
   "metadata": {
    "collapsed": false
   },
   "outputs": [
    {
     "data": {
      "text/plain": [
       "<matplotlib.legend.Legend at 0x21b85149588>"
      ]
     },
     "execution_count": 76,
     "metadata": {},
     "output_type": "execute_result"
    },
    {
     "data": {
      "image/png": "[encoded data removed]",
      "text/plain": [
       "<matplotlib.figure.Figure at 0x21b851d9080>"
      ]
     },
     "metadata": {},
     "output_type": "display_data"
    }
   ],
   "source": [
    "plt.figure(figsize = (10,6))\n",
    "plt.plot(C_range, train_score, 'ro--', label = 'Training set')\n",
    "plt.plot(C_range, cv_score, 'bo--', label = 'Validation set')\n",
    "plt.xscale('log')\n",
    "plt.xlabel('Range of C', fontsize = 14)\n",
    "plt.ylabel('Score', fontsize = 14)\n",
    "plt.title('Choose an appropriate C', fontsize = 17)\n",
    "plt.grid('both', linestyle = '-.', alpha=0.3)\n",
    "plt.legend()"
   ]
  },
  {
   "cell_type": "markdown",
   "metadata": {},
   "source": [
    "## 3.3. Test the model"
   ]
  },
  {
   "cell_type": "code",
   "execution_count": 77,
   "metadata": {
    "collapsed": false
   },
   "outputs": [
    {
     "name": "stdout",
     "output_type": "stream",
     "text": [
      "Test score is 0.992\n"
     ]
    }
   ],
   "source": [
    "# So we choose C = 0.1\n",
    "fit = svm.SVC(C=0.1, kernel = 'linear').fit(X_train, y_train.flatten())\n",
    "test_score = fit.score(X_test, y_test.flatten())\n",
    "print('Test score is %.3f' % test_score)"
   ]
  },
  {
   "cell_type": "code",
   "execution_count": 78,
   "metadata": {
    "collapsed": false
   },
   "outputs": [
    {
     "data": {
      "text/plain": [
       "(1, 1)"
      ]
     },
     "execution_count": 78,
     "metadata": {},
     "output_type": "execute_result"
    }
   ],
   "source": [
    "with open('Reminder_ HKUST MSc Program - Application of Off-Campus Housing (starts at 10am on Apr 20).txt','rb') as f:\n",
    "    email1 = str(f.read(), encoding = 'utf-8')\n",
    "\n",
    "with open('Complete Unsupervised Learning.txt','rb') as f:\n",
    "    email2 = str(f.read(), encoding = 'utf-8')\n",
    "\n",
    "X1 = email2featurevec(email1, vocab_dict)\n",
    "X2 = email2featurevec(email2, vocab_dict)\n",
    "int(fit.predict(X1.T)), int(fit.predict(X2.T))"
   ]
  },
  {
   "cell_type": "code",
   "execution_count": null,
   "metadata": {
    "collapsed": true
   },
   "outputs": [],
   "source": []
  }
 ],
 "metadata": {
  "kernelspec": {
   "display_name": "Python 3",
   "language": "python",
   "name": "python3"
  },
  "language_info": {
   "codemirror_mode": {
    "name": "ipython",
    "version": 3
   },
   "file_extension": ".py",
   "mimetype": "text/x-python",
   "name": "python",
   "nbconvert_exporter": "python",
   "pygments_lexer": "ipython3",
   "version": "3.6.0"
  }
 },
 "nbformat": 4,
 "nbformat_minor": 2
}
